{
 "cells": [
  {
   "cell_type": "markdown",
   "id": "7b8dad91",
   "metadata": {
    "toc": true
   },
   "source": [
    "<h1>Table of Contents<span class=\"tocSkip\"></span></h1>\n",
    "<div class=\"toc\"><ul class=\"toc-item\"></ul></div>"
   ]
  },
  {
   "cell_type": "code",
   "execution_count": 1,
   "id": "8402e59f",
   "metadata": {},
   "outputs": [],
   "source": [
    "import numpy as np\n",
    "import utils\n",
    "from utils import LAMMPS\n",
    "import matplotlib.pyplot as plt"
   ]
  },
  {
   "cell_type": "code",
   "execution_count": 2,
   "id": "8a6d9014",
   "metadata": {},
   "outputs": [],
   "source": [
    "# Step 1: Load Colloid from C++ code\n",
    "from utils import Colloid\n",
    "\n",
    "c = Colloid()\n",
    "c.load('../examples/initialize_colloid/colloid.json')\n",
    "\n",
    "# Always save the Colloid object so you have the mapping of types\n",
    "c.save('colloid.pkl')"
   ]
  },
  {
   "cell_type": "code",
   "execution_count": 3,
   "id": "1cbe367d",
   "metadata": {},
   "outputs": [],
   "source": [
    "# Step 2a: Create a mixture of a set of different enantiomorphs\n",
    "buffer = 0.5\n",
    "box = [10, 10]\n",
    "n_each = [8, 8]\n",
    "coords_, types_ = LAMMPS.tile(c, box, buffer, n=n_each)"
   ]
  },
  {
   "cell_type": "code",
   "execution_count": 4,
   "id": "bed562a4",
   "metadata": {},
   "outputs": [
    {
     "data": {
      "image/png": "[encoded data removed]",
      "text/plain": [
       "<Figure size 432x288 with 1 Axes>"
      ]
     },
     "metadata": {
      "needs_background": "light"
     },
     "output_type": "display_data"
    }
   ],
   "source": [
    "# Step 2b: Let's color by chirality\n",
    "from utils import Analysis\n",
    "\n",
    "l = len(c.coords)\n",
    "end = l\n",
    "while end <= len(coords_):\n",
    "    x = Analysis.identify_chirality(\n",
    "        Analysis.unwrap(c.coords, box), \n",
    "        Analysis.unwrap(coords_[end-l:end], box)\n",
    "    )\n",
    "\n",
    "    plt.plot(coords_[end-l:end,0], coords_[end-l:end,1], 'o', color='C{}'.format(int(x)))\n",
    "    end += l"
   ]
  },
  {
   "cell_type": "code",
   "execution_count": 5,
   "id": "7b5da586",
   "metadata": {},
   "outputs": [],
   "source": [
    "# Step 3: Turn that into a LAMMPS file to read\n",
    "LAMMPS.create_initial_configuration(\n",
    "    c, \n",
    "    box, \n",
    "    buffer, \n",
    "    n_each, \n",
    "    'init_config.lammps'\n",
    ")"
   ]
  },
  {
   "cell_type": "code",
   "execution_count": 7,
   "id": "0c3842a0",
   "metadata": {},
   "outputs": [],
   "source": [
    "# Step 4: Record the potential for each pair of particles\n",
    "LAMMPS.tabulate_potentials(\n",
    "    c,\n",
    "    filename='potentials.lammps', \n",
    "    alpha=6, \n",
    "    bins=50\n",
    ")"
   ]
  }
 ],
 "metadata": {
  "kernelspec": {
   "display_name": "Python 3 (ipykernel)",
   "language": "python",
   "name": "python3"
  },
  "language_info": {
   "codemirror_mode": {
    "name": "ipython",
    "version": 3
   },
   "file_extension": ".py",
   "mimetype": "text/x-python",
   "name": "python",
   "nbconvert_exporter": "python",
   "pygments_lexer": "ipython3",
   "version": "3.9.7"
  },
  "toc": {
   "base_numbering": 1,
   "nav_menu": {},
   "number_sections": true,
   "sideBar": true,
   "skip_h1_title": false,
   "title_cell": "Table of Contents",
   "title_sidebar": "Contents",
   "toc_cell": true,
   "toc_position": {},
   "toc_section_display": true,
   "toc_window_display": false
  }
 },
 "nbformat": 4,
 "nbformat_minor": 5
}
