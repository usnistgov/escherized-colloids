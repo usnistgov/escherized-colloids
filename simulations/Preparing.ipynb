{
 "cells": [
  {
   "cell_type": "markdown",
   "id": "6b1b16af",
   "metadata": {
    "toc": true
   },
   "source": [
    "<h1>Table of Contents<span class=\"tocSkip\"></span></h1>\n",
    "<div class=\"toc\"><ul class=\"toc-item\"><li><span><a href=\"#Example:-Examine-Potentials\" data-toc-modified-id=\"Example:-Examine-Potentials-1\"><span class=\"toc-item-num\">1&nbsp;&nbsp;</span>Example: Examine Potentials</a></span></li><li><span><a href=\"#Example:-Manually-Examining-Simulation-Information\" data-toc-modified-id=\"Example:-Manually-Examining-Simulation-Information-2\"><span class=\"toc-item-num\">2&nbsp;&nbsp;</span>Example: Manually Examining Simulation Information</a></span></li><li><span><a href=\"#Example:-Automatically-Creating-a-Simulation-Script\" data-toc-modified-id=\"Example:-Automatically-Creating-a-Simulation-Script-3\"><span class=\"toc-item-num\">3&nbsp;&nbsp;</span>Example: Automatically Creating a Simulation Script</a></span></li><li><span><a href=\"#Example:-Analysis\" data-toc-modified-id=\"Example:-Analysis-4\"><span class=\"toc-item-num\">4&nbsp;&nbsp;</span>Example: Analysis</a></span></li></ul></div>"
   ]
  },
  {
   "cell_type": "code",
   "execution_count": null,
   "id": "143be541",
   "metadata": {},
   "outputs": [],
   "source": [
    "import numpy as np\n",
    "import utils\n",
    "import matplotlib.pyplot as plt\n",
    "%matplotlib inline"
   ]
  },
  {
   "cell_type": "markdown",
   "id": "94638d21",
   "metadata": {
    "heading_collapsed": true
   },
   "source": [
    "# Example: Examine Potentials"
   ]
  },
  {
   "cell_type": "code",
   "execution_count": null,
   "id": "4b33a7fa",
   "metadata": {
    "hidden": true
   },
   "outputs": [],
   "source": [
    "from utils import LAMMPS"
   ]
  },
  {
   "cell_type": "code",
   "execution_count": null,
   "id": "7389ba58",
   "metadata": {
    "hidden": true
   },
   "outputs": [],
   "source": [
    "r_, u_, f_ = LAMMPS.force_shifted_lennard_jones(\n",
    "    r_min=0.7, r_cut=2.5, eps=1.0, sigma=1.0, alpha=6, bins=1000)"
   ]
  },
  {
   "cell_type": "code",
   "execution_count": null,
   "id": "e0b7dc41",
   "metadata": {
    "hidden": true
   },
   "outputs": [],
   "source": [
    "plt.plot(r_, u_, color='C0')\n",
    "plt.plot(r_, f_, color='C1')\n",
    "plt.ylim(-3.5, 3.5)"
   ]
  },
  {
   "cell_type": "code",
   "execution_count": null,
   "id": "82cdb5ac",
   "metadata": {
    "hidden": true
   },
   "outputs": [],
   "source": [
    "r_, u_, f_ = LAMMPS.force_shifted_yukawa(\n",
    "    r_min=0, r_cut=2.5, eps=1.0, kappa=5.0, bins=1000)"
   ]
  },
  {
   "cell_type": "code",
   "execution_count": null,
   "id": "6a008b23",
   "metadata": {
    "hidden": true
   },
   "outputs": [],
   "source": [
    "plt.plot(r_, u_, color='C0')\n",
    "plt.plot(r_, f_, color='C1')"
   ]
  },
  {
   "cell_type": "code",
   "execution_count": null,
   "id": "e90ab5e5",
   "metadata": {
    "hidden": true
   },
   "outputs": [],
   "source": [
    "sig = 1.0\n",
    "kappa_sig = 2.5\n",
    "r_, u_, f_ = LAMMPS.force_shifted_tanh(\n",
    "    r_min=0, r_cut=2.5*sig, eps=-1.0, sigma=sig, kappa=kappa_sig/sig, bins=1000)"
   ]
  },
  {
   "cell_type": "code",
   "execution_count": null,
   "id": "60353341",
   "metadata": {
    "hidden": true
   },
   "outputs": [],
   "source": [
    "plt.plot(r_, u_, color='C0')\n",
    "plt.plot(r_, f_, color='C1')"
   ]
  },
  {
   "cell_type": "markdown",
   "id": "ebdb6fc3",
   "metadata": {
    "heading_collapsed": true
   },
   "source": [
    "# Example: Manually Examining Simulation Information"
   ]
  },
  {
   "cell_type": "code",
   "execution_count": null,
   "id": "3a5a9517",
   "metadata": {
    "hidden": true
   },
   "outputs": [],
   "source": [
    "# Step 1: Load Colloid from C++ code\n",
    "from utils import Colloid\n",
    "\n",
    "c = Colloid()\n",
    "c.load(\n",
    "    filename='../examples/initialize_colloid/colloid.json'\n",
    ")\n",
    "\n",
    "# Scale so motif points are \"at contact\" - also sets \"diameters\"\n",
    "# of the beads when using inplace=True\n",
    "scale_constant = c.scale(inplace=True) \n",
    "\n",
    "# Always save the Colloid object so you have the mapping of types\n",
    "c.save('colloid.pkl')"
   ]
  },
  {
   "cell_type": "code",
   "execution_count": null,
   "id": "3a578d31",
   "metadata": {
    "hidden": true
   },
   "outputs": [],
   "source": [
    "# Step 2a: Create a mixture of a set of different enantiomorphs\n",
    "from utils import LAMMPS\n",
    "\n",
    "buffer = 1.0 # Gap around colloids\n",
    "box = [175, 175] # Box widths\n",
    "n_each = [100, 100] # Number of each chirality [same, opposite]\n",
    "\n",
    "coords_, types_, bbox_ = LAMMPS.tile(c, box, buffer, n=n_each)"
   ]
  },
  {
   "cell_type": "code",
   "execution_count": null,
   "id": "f8dd4087",
   "metadata": {
    "hidden": true
   },
   "outputs": [],
   "source": [
    "# Step 2b: Let's color by chirality\n",
    "from utils import Analysis\n",
    "\n",
    "%matplotlib notebook\n",
    "\n",
    "l = len(c.coords)\n",
    "end = l\n",
    "while end <= len(coords_):\n",
    "    x = Analysis.identify_chirality(\n",
    "        Analysis.unwrap(c.coords, box), \n",
    "        Analysis.unwrap(coords_[end-l:end], box)\n",
    "    )\n",
    "\n",
    "    plt.plot(coords_[end-l:end,0], coords_[end-l:end,1], '.', color='C{}'.format(int(not x)))\n",
    "    end += l"
   ]
  },
  {
   "cell_type": "markdown",
   "id": "41c2cf3b",
   "metadata": {
    "heading_collapsed": true
   },
   "source": [
    "# Example: Automatically Creating a Simulation Script"
   ]
  },
  {
   "cell_type": "code",
   "execution_count": null,
   "id": "f3c45650",
   "metadata": {
    "hidden": true
   },
   "outputs": [],
   "source": [
    "# Step 3: Turn that into a LAMMPS file to read\n",
    "init_config_filename = 'init_config.lammps'\n",
    "_ = LAMMPS.create_initial_configuration(\n",
    "    c, \n",
    "    box, \n",
    "    buffer, \n",
    "    n_each, \n",
    "    init_config_filename\n",
    ")"
   ]
  },
  {
   "cell_type": "code",
   "execution_count": null,
   "id": "523ec561",
   "metadata": {
    "hidden": true
   },
   "outputs": [],
   "source": [
    "# Step 4: Record the potential for each pair of particles\n",
    "bins = 1000\n",
    "potential_filename = 'potentials.table'\n",
    "max_rcut, rcut_dict = LAMMPS.tabulate_potentials(\n",
    "    c,\n",
    "    filename=potential_filename, \n",
    "    alpha=6, \n",
    "    #kappa_sigma=2.5,\n",
    "    bins=bins,\n",
    "    style='fslj'\n",
    ")\n",
    "\n",
    "pseudo_diameter = LAMMPS.rigid_body_min_comm(c, box, eps=0.1) + max_rcut"
   ]
  },
  {
   "cell_type": "code",
   "execution_count": null,
   "id": "e0e7fc11",
   "metadata": {
    "hidden": true
   },
   "outputs": [],
   "source": [
    "import re\n",
    "def make(\n",
    "    colloid, \n",
    "    output_filename,\n",
    "    template_filename, \n",
    "    init_config_filename,\n",
    "    potential_filename,\n",
    "    bins,\n",
    "    pseudo_diameter,\n",
    "    rcut_dict,\n",
    "    steps_per_loop=10000,\n",
    "    n_init_loops=50,\n",
    "    n_equil_loops=500,\n",
    "    n_prod_loops=50000,\n",
    "    rec_freq=500000,\n",
    "    res_freq=500000,\n",
    "    Tstart=1.0,\n",
    "    Tfinal=0.3,\n",
    "    Pstart=0.01,\n",
    "    Pfinal=0.01,\n",
    "    dt=0.005,\n",
    "):\n",
    "    raw = open(template_filename, 'r').read()\n",
    "    data = re.sub('__INIT_CONFIG__', str(init_config_filename), raw)\n",
    "    data = re.sub('__REC_FREQ__', str(rec_freq), data)\n",
    "    data = re.sub('__RES_FREQ__', str(res_freq), data)\n",
    "    data = re.sub('__TSTART__', str(Tstart), data)\n",
    "    data = re.sub('__TFINAL__', str(Tfinal), data)\n",
    "    data = re.sub('__TDAMP__', str(100*dt), data) l\n",
    "    data = re.sub('__PSTART__', str(Pstart), data)\n",
    "    data = re.sub('__PFINAL__', str(Pfinal), data)\n",
    "    data = re.sub('__PDAMP__', str(100000*dt), data)\n",
    "    data = re.sub('__TIMESTEP__', str(dt), data)\n",
    "    data = re.sub('__TABLE_BINS__', str(int(bins)), data)\n",
    "    data = re.sub('__PSEUDODIAMETER__', str(pseudo_diameter), data)\n",
    "    data = re.sub('__STEPS_PER_LOOP__', str(int(steps_per_loop)), data)\n",
    "    data = re.sub('__N_INIT_LOOPS__', str(int(n_init_loops)), data)\n",
    "    data = re.sub('__N_EQUIL_LOOPS__', str(int(n_equil_loops)), data)\n",
    "    data = re.sub('__N_PROD_LOOPS__', str(int(n_prod_loops)), data)\n",
    "\n",
    "    n_atom_types = len(colloid.forward)\n",
    "    \n",
    "    command = \"\"\n",
    "    for i in range(1, n_atom_types + 1):\n",
    "        for j in range(i, n_atom_types + 1):\n",
    "            command += \"pair_coeff\\t{} {} {} {}_{}\\n\".format(\n",
    "                i, \n",
    "                j, \n",
    "                potential_filename, \n",
    "                i, \n",
    "                j\n",
    "            )\n",
    "    data = re.sub('__PAIR_COEFF__', command, data)\n",
    "    \n",
    "    command = \"\"\n",
    "    for i in range(1, n_atom_types + 1):\n",
    "        for j in range(i, n_atom_types + 1):\n",
    "            command += \"pair_write\\t{} {} {} rsq {} {} potentials.interpolated {}_{}\\n\".format(\n",
    "                i, \n",
    "                j, \n",
    "                int(bins), \n",
    "                rcut_dict['{}_{}'.format(i,j)][0], \n",
    "                rcut_dict['{}_{}'.format(i,j)][1],\n",
    "                i,\n",
    "                j\n",
    "            )\n",
    "    data = re.sub('__PAIR_WRITE__', command, data)\n",
    "\n",
    "    open(output_filename, 'w').write(data)"
   ]
  },
  {
   "cell_type": "code",
   "execution_count": null,
   "id": "3d4c26b9",
   "metadata": {
    "hidden": true
   },
   "outputs": [],
   "source": [
    "make(\n",
    "    colloid=c,\n",
    "    output_filename='input.lmp',\n",
    "    template_filename='npt.template', \n",
    "    potential_filename=potential_filename,\n",
    "    init_config_filename=init_config_filename,\n",
    "    bins=bins,\n",
    "    pseudo_diameter=pseudo_diameter,\n",
    "    rcut_dict=rcut_dict\n",
    ")"
   ]
  },
  {
   "cell_type": "markdown",
   "id": "643b5866",
   "metadata": {
    "heading_collapsed": true
   },
   "source": [
    "# Example: Analysis"
   ]
  },
  {
   "cell_type": "code",
   "execution_count": null,
   "id": "ae381c25",
   "metadata": {
    "hidden": true
   },
   "outputs": [],
   "source": [
    "for i in range(14, 15):\n",
    "    for j in range(i, 14+1):\n",
    "        plt.figure()\n",
    "        r_u_f_a = LAMMPS.read_lammps_potential(\n",
    "            'potentials.table', i, j)\n",
    "        r_u_f_b = LAMMPS.read_lammps_potential(\n",
    "            'potentials.interpolated', i, j)\n",
    "        \n",
    "        plt.plot(r_u_f_a[:,0], r_u_f_a[:,1], color='C0', alpha=0.4)\n",
    "        plt.plot(r_u_f_a[:,0], r_u_f_a[:,2], color='C1', alpha=0.4)\n",
    "        \n",
    "        plt.plot(r_u_f_b[:,0], r_u_f_b[:,1], color='C3', alpha=0.4)\n",
    "        plt.plot(r_u_f_b[:,0], r_u_f_b[:,2], color='C4', alpha=0.4)\n",
    "        plt.ylim(-2.5, 2.5)"
   ]
  },
  {
   "cell_type": "code",
   "execution_count": null,
   "id": "5174920b",
   "metadata": {
    "hidden": true
   },
   "outputs": [],
   "source": [
    "# from utils import Analysis\n",
    "# Analysis.sanity_checks('log.thermo') # Sanity checks"
   ]
  },
  {
   "cell_type": "code",
   "execution_count": null,
   "id": "0a956afe",
   "metadata": {
    "hidden": true
   },
   "outputs": [],
   "source": [
    "# steps_per_second = Analysis.performance('log.thermo')\n",
    "# print('{} +/- {}'.format(np.mean(steps_per_second), np.std(steps_per_second)))"
   ]
  },
  {
   "cell_type": "code",
   "execution_count": null,
   "id": "e8a07a32",
   "metadata": {
    "hidden": true
   },
   "outputs": [],
   "source": [
    "results = Analysis.thermo('log.thermo')"
   ]
  },
  {
   "cell_type": "code",
   "execution_count": null,
   "id": "7407237f",
   "metadata": {
    "hidden": true
   },
   "outputs": [],
   "source": [
    "%matplotlib inline\n",
    "\n",
    "fig, ax1 = plt.subplots()\n",
    "\n",
    "ax1.plot(results['Step'], results['Temp'], color='C0')\n",
    "ax1.set_ylabel('Temperature', color='C0')\n",
    "ax2 = ax1.twinx()  \n",
    "ax2.plot(results['Step'], results['PotEng'], color='C1')\n",
    "ax2.set_ylabel('PotEng', color='C1')"
   ]
  },
  {
   "cell_type": "code",
   "execution_count": null,
   "id": "3579325a",
   "metadata": {
    "hidden": true
   },
   "outputs": [],
   "source": [
    "fig, ax1 = plt.subplots()\n",
    "\n",
    "ax1.plot(results['Step'], results['Volume'], color='C0')\n",
    "ax1.set_ylabel('Volume', color='C0')\n",
    "ax2 = ax1.twinx()  \n",
    "ax2.plot(results['Step'], results['Press'], color='C1')\n",
    "ax2.set_ylabel('Press', color='C1')"
   ]
  },
  {
   "cell_type": "code",
   "execution_count": null,
   "id": "bd42f98b",
   "metadata": {
    "hidden": true
   },
   "outputs": [],
   "source": [
    "plt.plot(results['Temp'], results['PotEng'], '.')\n",
    "\n",
    "delta = (np.max(results['PotEng']) - np.min(results['PotEng']))\n",
    "x = delta/2. + np.min(results['PotEng'])\n",
    "tol = 0.1*delta\n",
    "plt.axhline(x, color='k')\n",
    "plt.axhline(x+tol, color='gray')\n",
    "plt.axhline(x-tol, color='gray')"
   ]
  }
 ],
 "metadata": {
  "kernelspec": {
   "display_name": "esherc",
   "language": "python",
   "name": "esherc"
  },
  "language_info": {
   "codemirror_mode": {
    "name": "ipython",
    "version": 3
   },
   "file_extension": ".py",
   "mimetype": "text/x-python",
   "name": "python",
   "nbconvert_exporter": "python",
   "pygments_lexer": "ipython3",
   "version": "3.9.0"
  },
  "toc": {
   "base_numbering": 1,
   "nav_menu": {},
   "number_sections": true,
   "sideBar": true,
   "skip_h1_title": false,
   "title_cell": "Table of Contents",
   "title_sidebar": "Contents",
   "toc_cell": true,
   "toc_position": {},
   "toc_section_display": true,
   "toc_window_display": false
  }
 },
 "nbformat": 4,
 "nbformat_minor": 5
}
