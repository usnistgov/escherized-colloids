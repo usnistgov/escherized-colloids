{
 "cells": [
  {
   "cell_type": "markdown",
   "id": "ef226cf1",
   "metadata": {
    "toc": true
   },
   "source": [
    "<h1>Table of Contents<span class=\"tocSkip\"></span></h1>\n",
    "<div class=\"toc\"><ul class=\"toc-item\"><li><ul class=\"toc-item\"><li><span><a href=\"#Overview\" data-toc-modified-id=\"Overview-0.1\"><span class=\"toc-item-num\">0.1&nbsp;&nbsp;</span>Overview</a></span></li></ul></li><li><span><a href=\"#Tools\" data-toc-modified-id=\"Tools-1\"><span class=\"toc-item-num\">1&nbsp;&nbsp;</span>Tools</a></span></li><li><span><a href=\"#Examples\" data-toc-modified-id=\"Examples-2\"><span class=\"toc-item-num\">2&nbsp;&nbsp;</span>Examples</a></span><ul class=\"toc-item\"><li><span><a href=\"#$d_{\\infty}$-Circle-(approximately)\" data-toc-modified-id=\"$d_{\\infty}$-Circle-(approximately)-2.1\"><span class=\"toc-item-num\">2.1&nbsp;&nbsp;</span>$d_{\\infty}$ Circle (approximately)</a></span></li><li><span><a href=\"#d1---Vitruvian-Man\" data-toc-modified-id=\"d1---Vitruvian-Man-2.2\"><span class=\"toc-item-num\">2.2&nbsp;&nbsp;</span>d1 - Vitruvian Man</a></span></li><li><span><a href=\"#d2---Dumbbell\" data-toc-modified-id=\"d2---Dumbbell-2.3\"><span class=\"toc-item-num\">2.3&nbsp;&nbsp;</span>d2 - Dumbbell</a></span></li><li><span><a href=\"#d3---Triangle\" data-toc-modified-id=\"d3---Triangle-2.4\"><span class=\"toc-item-num\">2.4&nbsp;&nbsp;</span>d3 - Triangle</a></span></li><li><span><a href=\"#d4---Square\" data-toc-modified-id=\"d4---Square-2.5\"><span class=\"toc-item-num\">2.5&nbsp;&nbsp;</span>d4 - Square</a></span></li><li><span><a href=\"#d6---Hexagon\" data-toc-modified-id=\"d6---Hexagon-2.6\"><span class=\"toc-item-num\">2.6&nbsp;&nbsp;</span>d6 - Hexagon</a></span></li><li><span><a href=\"#c1---Escher's-Pegasus\" data-toc-modified-id=\"c1---Escher's-Pegasus-2.7\"><span class=\"toc-item-num\">2.7&nbsp;&nbsp;</span>c1 - Escher's Pegasus</a></span></li><li><span><a href=\"#c1---Waving-Man\" data-toc-modified-id=\"c1---Waving-Man-2.8\"><span class=\"toc-item-num\">2.8&nbsp;&nbsp;</span>c1 - Waving Man</a></span></li><li><span><a href=\"#c1---Random-Pattern-(asymmetric)\" data-toc-modified-id=\"c1---Random-Pattern-(asymmetric)-2.9\"><span class=\"toc-item-num\">2.9&nbsp;&nbsp;</span>c1 - Random Pattern (asymmetric)</a></span></li><li><span><a href=\"#c2\" data-toc-modified-id=\"c2-2.10\"><span class=\"toc-item-num\">2.10&nbsp;&nbsp;</span>c2</a></span></li><li><span><a href=\"#c3\" data-toc-modified-id=\"c3-2.11\"><span class=\"toc-item-num\">2.11&nbsp;&nbsp;</span>c3</a></span></li><li><span><a href=\"#c4\" data-toc-modified-id=\"c4-2.12\"><span class=\"toc-item-num\">2.12&nbsp;&nbsp;</span>c4</a></span></li><li><span><a href=\"#c6\" data-toc-modified-id=\"c6-2.13\"><span class=\"toc-item-num\">2.13&nbsp;&nbsp;</span>c6</a></span></li></ul></li></ul></div>"
   ]
  },
  {
   "cell_type": "code",
   "execution_count": 1,
   "id": "debd7a3e",
   "metadata": {},
   "outputs": [],
   "source": [
    "import json\n",
    "import copy\n",
    "import numpy as np\n",
    "import matplotlib.pyplot as plt\n",
    "%matplotlib inline"
   ]
  },
  {
   "cell_type": "markdown",
   "id": "c1ff2399",
   "metadata": {},
   "source": [
    "Overview\n",
    "-------------\n",
    "\n",
    "This is **STEP 1** in the design procedure. This worksheet illustrates how you can go about manually creating a motif with different point symmetries.\n",
    "\n",
    "**You are responsible for correctly identifying/creating the point symmetry.** The Design notebook will perform a numerical check using pymatgen if you have this installed (recommended), but you are responsible for specifying this correctly.\n",
    "\n",
    "1. Create the (x,y) coordinates.\n",
    "2. Assign particle types - avoid numbers since these are assigned by the code when constructing a colloid; **use letters** instead.\n",
    "3. Assign the motif's point symmetry, e.g., \"c1\".\n",
    "4. Assign the orientation of the motif as you created it; $\\theta$ is regarded as the counterclockwise angle of rotation from the positive x-axis, so when the motif's angle == 0 this corresponds to a *clockwise* rotation of the current image by $\\theta$ radians. In other words, the motif is currently being \"viewed\" at an angle of $\\theta$ with respect to the positive x-axis. If a motif has mirror symmetry (i.e., d(n>=1)) then you should **assign the motif's position and orientation such that an angle of 0 will align one of the mirror lines with the x-axis.**  This is required for the code to work correctly! For example if an object has a vertical mirror line (parallel to y-axis) then $\\theta = \\pi/2$.\n",
    "\n",
    "Note: objects with cn (rotation but no reflection) symmetry have a chirality; you may also want to explore fitting motifs with both chiralities to see if better matches with a given tile."
   ]
  },
  {
   "cell_type": "markdown",
   "id": "b407bf6f",
   "metadata": {
    "heading_collapsed": true
   },
   "source": [
    "# Tools"
   ]
  },
  {
   "cell_type": "code",
   "execution_count": 2,
   "id": "a7c1ed96",
   "metadata": {
    "hidden": true
   },
   "outputs": [],
   "source": [
    "def export(coords, types, symmetry, theta, filename):\n",
    "    \"\"\"\n",
    "    Export the motif information to a standardized JSON format.\n",
    "    \n",
    "    Parameters\n",
    "    ----------\n",
    "    coords : array-like\n",
    "        (x,y) coordinates of motif particles.\n",
    "    types : array-like\n",
    "        List of names of each particle's type.\n",
    "    symmetry : str\n",
    "        Point symmetry of the motif.\n",
    "    filename : str\n",
    "        File to write JSON to.\n",
    "    \"\"\"\n",
    "    assert(len(coords) == len(types))\n",
    "    data = {\n",
    "        \"symmetry\": str(symmetry),\n",
    "        \"coords\": np.array(coords, dtype=np.float64).tolist(),\n",
    "        \"types\": np.array(types, dtype=str).tolist(),\n",
    "        \"theta\": float(theta)\n",
    "    }\n",
    "    try:\n",
    "        open(filename, 'r')\n",
    "    except IOError:\n",
    "        json.dump(data, open(filename, 'w'), indent=4, allow_nan=False)\n",
    "    else:\n",
    "        raise Exception(filename+\" already exists\")"
   ]
  },
  {
   "cell_type": "code",
   "execution_count": 3,
   "id": "64905f80",
   "metadata": {
    "hidden": true
   },
   "outputs": [],
   "source": [
    "def plot(coords, types=None): \n",
    "    \"\"\"Plot the coordinates for easy visualization.\"\"\"\n",
    "    if types:\n",
    "        types = np.array(types)\n",
    "        plt.figure()\n",
    "        for i,t in enumerate(np.unique(types)):\n",
    "            mask = types == t\n",
    "            plt.plot(coords[mask,0], coords[mask,1], marker='o', lw=0, color='C{}'.format(i))\n",
    "        _ = plt.gca().axis('equal')\n",
    "    else:\n",
    "        coords = np.array(coords)\n",
    "        plt.plot(coords[:,0], coords[:,1], 'o')\n",
    "        plt.gca().axis('equal') \n",
    "    \n",
    "def rotate(theta):\n",
    "    \"\"\"Counterclockwise rotation matrix.\"\"\"\n",
    "    R = np.array(\n",
    "        [\n",
    "            [np.cos(theta), -np.sin(theta)], \n",
    "            [np.sin(theta), np.cos(theta)]\n",
    "        ]\n",
    "    )\n",
    "    return R\n",
    "\n",
    "def swirl(n, k=10):\n",
    "    \"\"\"Create an n-armed 'swirl' with n-fold rotation symmetry.\"\"\"\n",
    "    theta = np.linspace(0, np.pi, k)\n",
    "    x = np.cos(theta)\n",
    "    y = np.sin(theta)\n",
    "\n",
    "    arm = np.array([(a,b) for a,b in zip(x,y)])\n",
    "\n",
    "    coords = arm - arm[-1]\n",
    "    for i in range(1, n):\n",
    "        coords = np.vstack((coords, np.matmul(rotate(2*np.pi*i/n), (arm - arm[-1]).T).T[:-1]))\n",
    "    return coords\n",
    "\n",
    "def swap_chirality(coords):\n",
    "    \"\"\"Change the chirality of a set of points.\"\"\"\n",
    "    com = np.mean(coords, axis=0)\n",
    "    centered = coords - com # Center\n",
    "    centered[:,1] = -centered[:,1] # Reflect across y-axis\n",
    "    return centered + com\n",
    "\n",
    "def compress(coords): \n",
    "    \"\"\"Compress into [0,1] square window to make it easier on Tactile.\"\"\"\n",
    "    compressed = copy.copy(coords)\n",
    "    bb = np.min(compressed, axis=0)\n",
    "    compressed -= bb\n",
    "\n",
    "    bb = np.max(compressed, axis=0)\n",
    "    compressed = compressed/bb\n",
    "    \n",
    "    return compressed"
   ]
  },
  {
   "cell_type": "markdown",
   "id": "181fda10",
   "metadata": {
    "heading_collapsed": true
   },
   "source": [
    "# Examples"
   ]
  },
  {
   "cell_type": "markdown",
   "id": "5bea0bc5",
   "metadata": {
    "heading_collapsed": true,
    "hidden": true
   },
   "source": [
    "## $d_{\\infty}$ Circle (approximately)"
   ]
  },
  {
   "cell_type": "code",
   "execution_count": 4,
   "id": "2f0fb415",
   "metadata": {
    "hidden": true
   },
   "outputs": [],
   "source": [
    "N = 20 # < inf\n",
    "x = [np.cos(2*np.pi/N*i)*0.5 for i in range(0, N)]\n",
    "y = [np.sin(2*np.pi/N*i)*0.5 for i in range(0, N)]\n",
    "coords = np.vstack((x,y)).T"
   ]
  },
  {
   "cell_type": "code",
   "execution_count": 5,
   "id": "a178abf9",
   "metadata": {
    "hidden": true
   },
   "outputs": [
    {
     "data": {
      "image/png": "[encoded data removed]",
      "text/plain": [
       "<Figure size 432x288 with 1 Axes>"
      ]
     },
     "metadata": {
      "needs_background": "light"
     },
     "output_type": "display_data"
    }
   ],
   "source": [
    "plot(coords)"
   ]
  },
  {
   "cell_type": "code",
   "execution_count": 6,
   "id": "03b43459",
   "metadata": {
    "hidden": true
   },
   "outputs": [],
   "source": [
    "export(\n",
    "    coords=coords, \n",
    "    types=['A']*len(coords), \n",
    "    symmetry=\"dinf\",\n",
    "    theta=0.0,\n",
    "    filename=\"dinf_circle.json\"\n",
    ")"
   ]
  },
  {
   "cell_type": "markdown",
   "id": "04d5bb2d",
   "metadata": {
    "heading_collapsed": true,
    "hidden": true
   },
   "source": [
    "## d1 - Vitruvian Man"
   ]
  },
  {
   "cell_type": "code",
   "execution_count": 7,
   "id": "19f14712",
   "metadata": {
    "hidden": true
   },
   "outputs": [],
   "source": [
    "coords = [\n",
    "    [0, 0],\n",
    "    [0, -1],\n",
    "    [-1, -1],\n",
    "    [-2, -1],\n",
    "    [-2, -2],\n",
    "    [1, -1],\n",
    "    [2, -1],\n",
    "    [2, -2],\n",
    "    [0, -2],\n",
    "    [0, -3],\n",
    "    [-1, -3],\n",
    "    [-1, -4],\n",
    "    [1, -3],\n",
    "    [1, -4]\n",
    "]\n",
    "\n",
    "coords = compress(np.array(coords))"
   ]
  },
  {
   "cell_type": "code",
   "execution_count": 8,
   "id": "fbab3d27",
   "metadata": {
    "hidden": true
   },
   "outputs": [
    {
     "data": {
      "image/png": "[encoded data removed]",
      "text/plain": [
       "<Figure size 432x288 with 1 Axes>"
      ]
     },
     "metadata": {
      "needs_background": "light"
     },
     "output_type": "display_data"
    }
   ],
   "source": [
    "plot(coords)"
   ]
  },
  {
   "cell_type": "code",
   "execution_count": 9,
   "id": "312b6c79",
   "metadata": {
    "hidden": true
   },
   "outputs": [],
   "source": [
    "export(\n",
    "    coords=coords, \n",
    "    types=['A']*len(coords), \n",
    "    symmetry=\"d1\",\n",
    "    theta=np.pi/2., # Mirror line is vertical\n",
    "    filename=\"d1_vitruvian.json\"\n",
    ")"
   ]
  },
  {
   "cell_type": "markdown",
   "id": "4f061e8b",
   "metadata": {
    "heading_collapsed": true,
    "hidden": true
   },
   "source": [
    "## d2 - Dumbbell"
   ]
  },
  {
   "cell_type": "code",
   "execution_count": 10,
   "id": "eb96afff",
   "metadata": {
    "hidden": true
   },
   "outputs": [],
   "source": [
    "N = 10 # Needs to be even\n",
    "r = 0.25\n",
    "x = [np.cos(2*np.pi/N*i)*r - r for i in range(0, N)]\n",
    "y = [np.sin(2*np.pi/N*i)*r for i in range(0, N)]\n",
    "coords = np.vstack((x,y)).T\n",
    "coords = np.vstack((coords, coords + [2.1*r, 0]))"
   ]
  },
  {
   "cell_type": "code",
   "execution_count": 11,
   "id": "3ef76aad",
   "metadata": {
    "hidden": true
   },
   "outputs": [
    {
     "data": {
      "image/png": "[encoded data removed]",
      "text/plain": [
       "<Figure size 432x288 with 1 Axes>"
      ]
     },
     "metadata": {
      "needs_background": "light"
     },
     "output_type": "display_data"
    }
   ],
   "source": [
    "plot(coords)"
   ]
  },
  {
   "cell_type": "code",
   "execution_count": 12,
   "id": "7898a6f3",
   "metadata": {
    "hidden": true
   },
   "outputs": [],
   "source": [
    "export(\n",
    "    coords=coords, \n",
    "    types=['A']*len(coords), \n",
    "    symmetry=\"d2\",\n",
    "    theta=0.0, # A mirror line coincides with the x-axis\n",
    "    filename=\"d2_dumbbell.json\"\n",
    ")"
   ]
  },
  {
   "cell_type": "markdown",
   "id": "8a341f47",
   "metadata": {
    "heading_collapsed": true,
    "hidden": true
   },
   "source": [
    "## d3 - Triangle"
   ]
  },
  {
   "cell_type": "code",
   "execution_count": 13,
   "id": "4892d9cb",
   "metadata": {
    "hidden": true
   },
   "outputs": [],
   "source": [
    "N = 10\n",
    "l1 = np.array(list(zip(np.linspace(0, 1, N), [0]*N)))\n",
    "l2 = np.matmul(rotate(np.pi/3.), l1.T).T\n",
    "l3 = np.matmul(rotate(-np.pi/3.), l1.T).T + np.array([1/2., np.sqrt(3.0)/2.*1])\n",
    "coords = np.vstack((l1[:-1,:], l2[1:,:], l3[1:,:]))"
   ]
  },
  {
   "cell_type": "code",
   "execution_count": 14,
   "id": "d594ccce",
   "metadata": {
    "hidden": true
   },
   "outputs": [
    {
     "data": {
      "image/png": "[encoded data removed]",
      "text/plain": [
       "<Figure size 432x288 with 1 Axes>"
      ]
     },
     "metadata": {
      "needs_background": "light"
     },
     "output_type": "display_data"
    }
   ],
   "source": [
    "plot(coords)"
   ]
  },
  {
   "cell_type": "code",
   "execution_count": 15,
   "id": "0f759b75",
   "metadata": {
    "hidden": true
   },
   "outputs": [],
   "source": [
    "export(\n",
    "    coords=coords, \n",
    "    types=['A']*len(coords), \n",
    "    symmetry=\"d3\",\n",
    "    theta=np.pi/6., # Mirror line is inclined\n",
    "    filename=\"d3_triangle.json\"\n",
    ")"
   ]
  },
  {
   "cell_type": "markdown",
   "id": "c0d91fdc",
   "metadata": {
    "heading_collapsed": true,
    "hidden": true
   },
   "source": [
    "## d4 - Square"
   ]
  },
  {
   "cell_type": "code",
   "execution_count": 16,
   "id": "0b3617d2",
   "metadata": {
    "hidden": true
   },
   "outputs": [],
   "source": [
    "N = 10\n",
    "l1 = np.array(list(zip(np.linspace(0, 1, N), [0]*N)))\n",
    "l2 = np.matmul(rotate(np.pi/2.), l1.T).T\n",
    "l3 = l1 + np.array([0, 1])\n",
    "l4 = copy.copy(l2) + np.array([1, 0])\n",
    "\n",
    "coords = compress(np.vstack((l1, l2[1:], l3[1:], l4[1:-1,:])))"
   ]
  },
  {
   "cell_type": "code",
   "execution_count": 17,
   "id": "851f2a62",
   "metadata": {
    "hidden": true
   },
   "outputs": [
    {
     "data": {
      "image/png": "[encoded data removed]",
      "text/plain": [
       "<Figure size 432x288 with 1 Axes>"
      ]
     },
     "metadata": {
      "needs_background": "light"
     },
     "output_type": "display_data"
    }
   ],
   "source": [
    "plot(coords)"
   ]
  },
  {
   "cell_type": "code",
   "execution_count": 18,
   "id": "f1b3ddfb",
   "metadata": {
    "hidden": true
   },
   "outputs": [],
   "source": [
    "export(\n",
    "    coords=coords, \n",
    "    types=['A']*len(coords), \n",
    "    symmetry=\"d4\",\n",
    "    theta=0.0, # Mirror line along x-axis\n",
    "    filename=\"d4_square.json\"\n",
    ")"
   ]
  },
  {
   "cell_type": "markdown",
   "id": "4e203f41",
   "metadata": {
    "heading_collapsed": true,
    "hidden": true
   },
   "source": [
    "## d6 - Hexagon"
   ]
  },
  {
   "cell_type": "code",
   "execution_count": 19,
   "id": "25ec9529",
   "metadata": {
    "hidden": true
   },
   "outputs": [],
   "source": [
    "N = 10\n",
    "l1 = np.array(list(zip(np.linspace(0, 1, N), [0]*N)))\n",
    "l2 = np.matmul(rotate(-2*np.pi/3.), l1.T).T\n",
    "l3 = np.matmul(rotate(-4*np.pi/3.), l1.T).T\n",
    "l3 += (l2[-1] - l3[-1])\n",
    "l4 = copy.copy(l1) + l3[0]\n",
    "l5 = np.matmul(np.array([[-1, 0],[0, 1]]), l3.T).T + np.array([1.0, 0])\n",
    "l6 = np.matmul(np.array([[-1, 0],[0, 1]]), l2.T).T + np.array([1.0, 0])\n",
    "\n",
    "coords = np.vstack((l1[1:], l2[:-1], l3[1:], l4[:-1], l5[:-1], l6[1:]))\n",
    "coords -= np.array([0, np.min(coords[:,1])])"
   ]
  },
  {
   "cell_type": "code",
   "execution_count": 20,
   "id": "19455f75",
   "metadata": {
    "hidden": true
   },
   "outputs": [
    {
     "data": {
      "image/png": "[encoded data removed]",
      "text/plain": [
       "<Figure size 432x288 with 1 Axes>"
      ]
     },
     "metadata": {
      "needs_background": "light"
     },
     "output_type": "display_data"
    }
   ],
   "source": [
    "plot(coords)"
   ]
  },
  {
   "cell_type": "code",
   "execution_count": 21,
   "id": "74a32577",
   "metadata": {
    "hidden": true
   },
   "outputs": [],
   "source": [
    "export(\n",
    "    coords=coords, \n",
    "    types=['A']*len(coords), \n",
    "    symmetry=\"d6\",\n",
    "    theta=0.0, # Mirror line along x-axis\n",
    "    filename=\"d6_hexagon.json\"\n",
    ")"
   ]
  },
  {
   "cell_type": "markdown",
   "id": "4c6c286b",
   "metadata": {
    "heading_collapsed": true,
    "hidden": true
   },
   "source": [
    "## c1 - Escher's Pegasus"
   ]
  },
  {
   "cell_type": "code",
   "execution_count": 22,
   "id": "8452660d",
   "metadata": {
    "hidden": true
   },
   "outputs": [],
   "source": [
    "# Manually drawn in Inkscape\n",
    "coords = [\n",
    "    [145, 90],\n",
    "    [155, 87],\n",
    "    [164, 91],\n",
    "    [156, 106],\n",
    "    [164, 108],\n",
    "    [174, 99],\n",
    "    [182, 96],\n",
    "    [176, 106],\n",
    "    [170, 106],\n",
    "    [169, 112],\n",
    "    [173, 116],\n",
    "    [179, 114],\n",
    "    [173, 116], # Go back\n",
    "    [169, 127],\n",
    "    [162, 134],\n",
    "    [169, 127], # Go back\n",
    "    [164, 117],\n",
    "    [152, 115],\n",
    "    [144, 118],\n",
    "    [143, 124],\n",
    "    [144, 118], # Go back\n",
    "    [152, 115], # Go back\n",
    "    [148, 109],\n",
    "    [142, 109],\n",
    "    [143, 114],\n",
    "    [157, 94],\n",
    "    [149, 94],\n",
    "]\n",
    "\n",
    "coords = np.array(coords)\n",
    "coords[:,1] = 300 - coords[:,1] # Coords start from top left\n",
    "\n",
    "coords = compress(np.array(coords))"
   ]
  },
  {
   "cell_type": "code",
   "execution_count": 23,
   "id": "bbb60f58",
   "metadata": {
    "hidden": true
   },
   "outputs": [],
   "source": [
    "# Interpolate to increase the point density\n",
    "n = 3\n",
    "new_coords = []\n",
    "for i in range(coords.shape[0]):\n",
    "    lp = coords[i]\n",
    "    rp = coords[(i+1)%coords.shape[0]]\n",
    "    dx = (rp[0] - lp[0])/n\n",
    "    dy = (rp[1] - lp[1])/n\n",
    "    \n",
    "    new_coords.append(lp)\n",
    "    for i in range(1, n):\n",
    "        new_coords.append([lp[0]+dx*i, lp[1]+dy*i])\n",
    "        \n",
    "# Remove duplicates\n",
    "unique_points = []\n",
    "tol = 1.0e-8\n",
    "for i in range(len(new_coords)):\n",
    "    skip = False\n",
    "    for j in range(i+1, len(new_coords)):\n",
    "        d2 = (new_coords[j][0] - new_coords[i][0])**2 + (new_coords[j][1] - new_coords[i][1])**2\n",
    "        if (d2 < tol*tol):\n",
    "            skip = True\n",
    "            break\n",
    "    if not skip:\n",
    "        unique_points.append(new_coords[i])"
   ]
  },
  {
   "cell_type": "code",
   "execution_count": 24,
   "id": "98310ae8",
   "metadata": {
    "hidden": true
   },
   "outputs": [],
   "source": [
    "unique_points = np.array(unique_points)"
   ]
  },
  {
   "cell_type": "code",
   "execution_count": 25,
   "id": "4c588570",
   "metadata": {
    "hidden": true
   },
   "outputs": [
    {
     "data": {
      "image/png": "[encoded data removed]",
      "text/plain": [
       "<Figure size 432x288 with 1 Axes>"
      ]
     },
     "metadata": {
      "needs_background": "light"
     },
     "output_type": "display_data"
    }
   ],
   "source": [
    "plot(unique_points)"
   ]
  },
  {
   "cell_type": "code",
   "execution_count": 26,
   "id": "c64fdb37",
   "metadata": {
    "hidden": true
   },
   "outputs": [],
   "source": [
    "export(\n",
    "    coords=unique_points, \n",
    "    types=['A']*len(unique_points), \n",
    "    symmetry=\"c1\",\n",
    "    theta=0.0,\n",
    "    filename=\"c1_pegasus.json\"\n",
    ")"
   ]
  },
  {
   "cell_type": "markdown",
   "id": "b09a3b37",
   "metadata": {
    "heading_collapsed": true,
    "hidden": true
   },
   "source": [
    "## c1 - Waving Man"
   ]
  },
  {
   "cell_type": "code",
   "execution_count": 27,
   "id": "98131f5a",
   "metadata": {
    "hidden": true
   },
   "outputs": [],
   "source": [
    "coords = [\n",
    "    [0, 0],\n",
    "    [0, -1],\n",
    "    [-1, -1],\n",
    "    [-2, -1],\n",
    "    [-2, 0],\n",
    "    [1, -1],\n",
    "    [2, -1],\n",
    "    [2, -2],\n",
    "    [0, -2],\n",
    "    [0, -3],\n",
    "    [-1, -3],\n",
    "    [-1, -4],\n",
    "    [1, -3],\n",
    "    [1, -4]\n",
    "]\n",
    "\n",
    "coords = compress(np.array(coords))"
   ]
  },
  {
   "cell_type": "code",
   "execution_count": 28,
   "id": "63547372",
   "metadata": {
    "hidden": true
   },
   "outputs": [
    {
     "data": {
      "image/png": "[encoded data removed]",
      "text/plain": [
       "<Figure size 432x288 with 1 Axes>"
      ]
     },
     "metadata": {
      "needs_background": "light"
     },
     "output_type": "display_data"
    }
   ],
   "source": [
    "plot(coords)"
   ]
  },
  {
   "cell_type": "code",
   "execution_count": 29,
   "id": "f76dd001",
   "metadata": {
    "hidden": true
   },
   "outputs": [],
   "source": [
    "export(\n",
    "    coords=coords, \n",
    "    types=['A']*len(coords), \n",
    "    symmetry=\"c1\",\n",
    "    theta=0.0, \n",
    "    filename=\"c1_waving.json\"\n",
    ")"
   ]
  },
  {
   "cell_type": "markdown",
   "id": "30466a4b",
   "metadata": {
    "heading_collapsed": true,
    "hidden": true
   },
   "source": [
    "## c1 - Random Pattern (asymmetric)"
   ]
  },
  {
   "cell_type": "code",
   "execution_count": 30,
   "id": "2108829e",
   "metadata": {
    "hidden": true
   },
   "outputs": [
    {
     "data": {
      "text/plain": [
       "[<matplotlib.lines.Line2D at 0x7f8550159ed0>]"
      ]
     },
     "execution_count": 30,
     "metadata": {},
     "output_type": "execute_result"
    },
    {
     "data": {
      "image/png": "[encoded data removed]",
      "text/plain": [
       "<Figure size 432x288 with 1 Axes>"
      ]
     },
     "metadata": {
      "needs_background": "light"
     },
     "output_type": "display_data"
    }
   ],
   "source": [
    "# Create a shape from a convex hull of random points\n",
    "\n",
    "np.random.seed(0)\n",
    "N = 10\n",
    "coords = np.array(list(zip(np.random.random(N), np.random.random(N))))\n",
    "types = ['A']*len(coords)\n",
    "\n",
    "coords = compress(coords)\n",
    "\n",
    "from scipy.spatial import ConvexHull\n",
    "h = ConvexHull(coords)\n",
    "for simplex in h.simplices:\n",
    "    plt.plot(coords[simplex, 0], coords[simplex, 1], 'k-')\n",
    "plt.plot(coords[:,0], coords[:,1], 'ro')"
   ]
  },
  {
   "cell_type": "code",
   "execution_count": 31,
   "id": "b5bceb43",
   "metadata": {
    "hidden": true
   },
   "outputs": [],
   "source": [
    "# Interpolate along vertices to densify the boundary\n",
    "points = None\n",
    "N = 5\n",
    "for simplex in h.simplices:\n",
    "    dx, dy = coords[simplex, 0], coords[simplex, 1]\n",
    "    x = np.linspace(dx[0], dx[1], N)\n",
    "    y = np.linspace(dy[0], dy[1], N)\n",
    "    new_points = np.array(list(zip(x,y)))\n",
    "    if points is None:\n",
    "        points = new_points\n",
    "    else:\n",
    "        points = np.vstack((points, new_points))"
   ]
  },
  {
   "cell_type": "code",
   "execution_count": 32,
   "id": "97b24484",
   "metadata": {
    "hidden": true
   },
   "outputs": [],
   "source": [
    "coords = np.unique(points, axis=0)"
   ]
  },
  {
   "cell_type": "code",
   "execution_count": 33,
   "id": "a9b14605",
   "metadata": {
    "hidden": true
   },
   "outputs": [
    {
     "data": {
      "image/png": "[encoded data removed]",
      "text/plain": [
       "<Figure size 432x288 with 1 Axes>"
      ]
     },
     "metadata": {
      "needs_background": "light"
     },
     "output_type": "display_data"
    }
   ],
   "source": [
    "plot(coords)"
   ]
  },
  {
   "cell_type": "code",
   "execution_count": 34,
   "id": "5c75fdf9",
   "metadata": {
    "hidden": true
   },
   "outputs": [],
   "source": [
    "export(\n",
    "    coords=coords, \n",
    "    types=['A']*len(coords), \n",
    "    symmetry=\"c1\",\n",
    "    theta=0.0,\n",
    "    filename=\"c1_random.json\"\n",
    ")"
   ]
  },
  {
   "cell_type": "markdown",
   "id": "9b42a1e7",
   "metadata": {
    "heading_collapsed": true,
    "hidden": true
   },
   "source": [
    "## c2"
   ]
  },
  {
   "cell_type": "code",
   "execution_count": 35,
   "id": "f058a02f",
   "metadata": {
    "hidden": true
   },
   "outputs": [],
   "source": [
    "theta = np.linspace(0, 2*np.pi, 20-1)\n",
    "x = np.cos(theta)\n",
    "y = np.sin(theta)\n",
    "\n",
    "z = np.linspace(0.95, -0.95, 20-1)\n",
    "scale = 0.5\n",
    "\n",
    "#coords = np.array([(a,b) for a,b in zip(x,y)])\n",
    "#coords = np.vstack((coords, np.array([(a,b) for a,b in zip(scale*y,z)])))\n",
    "\n",
    "coords = np.array([(a,b) for a,b in zip(scale*y,z)])"
   ]
  },
  {
   "cell_type": "code",
   "execution_count": 36,
   "id": "5db1e8bb",
   "metadata": {
    "hidden": true
   },
   "outputs": [
    {
     "data": {
      "image/png": "[encoded data removed]",
      "text/plain": [
       "<Figure size 432x288 with 1 Axes>"
      ]
     },
     "metadata": {
      "needs_background": "light"
     },
     "output_type": "display_data"
    }
   ],
   "source": [
    "plot(coords)"
   ]
  },
  {
   "cell_type": "code",
   "execution_count": 37,
   "id": "fa1eac28",
   "metadata": {
    "hidden": true
   },
   "outputs": [],
   "source": [
    "export(\n",
    "    coords=coords, \n",
    "    types=['A']*len(coords), \n",
    "    symmetry=\"c2\",\n",
    "    theta=0.0,\n",
    "    filename=\"c2_taiji.json\"\n",
    ")"
   ]
  },
  {
   "cell_type": "markdown",
   "id": "c2d32114",
   "metadata": {
    "heading_collapsed": true,
    "hidden": true
   },
   "source": [
    "## c3"
   ]
  },
  {
   "cell_type": "code",
   "execution_count": 38,
   "id": "9bf77fdd",
   "metadata": {
    "hidden": true
   },
   "outputs": [],
   "source": [
    "coords = swirl(3)"
   ]
  },
  {
   "cell_type": "code",
   "execution_count": 39,
   "id": "97de2600",
   "metadata": {
    "hidden": true
   },
   "outputs": [
    {
     "data": {
      "image/png": "[encoded data removed]",
      "text/plain": [
       "<Figure size 432x288 with 1 Axes>"
      ]
     },
     "metadata": {
      "needs_background": "light"
     },
     "output_type": "display_data"
    }
   ],
   "source": [
    "plot(coords)"
   ]
  },
  {
   "cell_type": "code",
   "execution_count": 40,
   "id": "26819d6e",
   "metadata": {
    "hidden": true
   },
   "outputs": [],
   "source": [
    "export(\n",
    "    coords=coords, \n",
    "    types=['A']*len(coords), \n",
    "    symmetry=\"c3\",\n",
    "    theta=0.0,\n",
    "    filename=\"c3_swirl.json\"\n",
    ")"
   ]
  },
  {
   "cell_type": "code",
   "execution_count": 41,
   "id": "60fdb941",
   "metadata": {
    "hidden": true
   },
   "outputs": [],
   "source": [
    "N = 15\n",
    "l1 = np.array(list(zip(np.linspace(0, 1.4, N), [0]*N)))\n",
    "l2 = np.matmul(rotate(np.pi/3.), l1.T).T - np.array([0.5*np.cos(np.pi/3.), 0.5*np.sin(np.pi/3.)])\n",
    "l3 = np.matmul(rotate(-np.pi/3.), l1.T).T + np.array([1/2.*1.5-0.5, np.sqrt(3.0)/2.*1*1.5])\n",
    "coords = np.vstack((l1[1:,:], l2[1:,:], l3[1:,:]))"
   ]
  },
  {
   "cell_type": "code",
   "execution_count": 42,
   "id": "ed3e7c61",
   "metadata": {
    "hidden": true
   },
   "outputs": [
    {
     "data": {
      "image/png": "[encoded data removed]",
      "text/plain": [
       "<Figure size 432x288 with 1 Axes>"
      ]
     },
     "metadata": {
      "needs_background": "light"
     },
     "output_type": "display_data"
    }
   ],
   "source": [
    "plot(coords)"
   ]
  },
  {
   "cell_type": "code",
   "execution_count": 43,
   "id": "a29de799",
   "metadata": {
    "hidden": true
   },
   "outputs": [],
   "source": [
    "export(\n",
    "    coords=coords, \n",
    "    types=['A']*len(coords), \n",
    "    symmetry=\"c3\",\n",
    "    theta=0.0,\n",
    "    filename=\"c3_triangle.json\"\n",
    ")"
   ]
  },
  {
   "cell_type": "markdown",
   "id": "e2db2b49",
   "metadata": {
    "heading_collapsed": true,
    "hidden": true
   },
   "source": [
    "## c4"
   ]
  },
  {
   "cell_type": "code",
   "execution_count": 44,
   "id": "2eb26f0f",
   "metadata": {
    "hidden": true
   },
   "outputs": [],
   "source": [
    "coords = swirl(4)"
   ]
  },
  {
   "cell_type": "code",
   "execution_count": 45,
   "id": "a2ba9cc5",
   "metadata": {
    "hidden": true
   },
   "outputs": [
    {
     "data": {
      "image/png": "[encoded data removed]",
      "text/plain": [
       "<Figure size 432x288 with 1 Axes>"
      ]
     },
     "metadata": {
      "needs_background": "light"
     },
     "output_type": "display_data"
    }
   ],
   "source": [
    "plot(coords)"
   ]
  },
  {
   "cell_type": "code",
   "execution_count": 46,
   "id": "4dd7a2b7",
   "metadata": {
    "hidden": true
   },
   "outputs": [],
   "source": [
    "export(\n",
    "    coords=coords, \n",
    "    types=['A']*len(coords), \n",
    "    symmetry=\"c4\",\n",
    "    theta=0.0,\n",
    "    filename=\"c4_swirl.json\"\n",
    ")"
   ]
  },
  {
   "cell_type": "markdown",
   "id": "17a27cbc",
   "metadata": {
    "heading_collapsed": true,
    "hidden": true
   },
   "source": [
    "## c6"
   ]
  },
  {
   "cell_type": "code",
   "execution_count": 47,
   "id": "819c2f5b",
   "metadata": {
    "hidden": true
   },
   "outputs": [],
   "source": [
    "coords = swirl(6)"
   ]
  },
  {
   "cell_type": "code",
   "execution_count": 48,
   "id": "f67c9042",
   "metadata": {
    "hidden": true
   },
   "outputs": [
    {
     "data": {
      "image/png": "[encoded data removed]",
      "text/plain": [
       "<Figure size 432x288 with 1 Axes>"
      ]
     },
     "metadata": {
      "needs_background": "light"
     },
     "output_type": "display_data"
    }
   ],
   "source": [
    "plot(coords)"
   ]
  },
  {
   "cell_type": "code",
   "execution_count": 49,
   "id": "639624c3",
   "metadata": {
    "hidden": true
   },
   "outputs": [],
   "source": [
    "export(\n",
    "    coords=coords, \n",
    "    types=['A']*len(coords), \n",
    "    symmetry=\"c6\",\n",
    "    theta=0.0,\n",
    "    filename=\"c6_swirl_L.json\"\n",
    ")"
   ]
  },
  {
   "cell_type": "code",
   "execution_count": 50,
   "id": "d6745f51",
   "metadata": {
    "hidden": true
   },
   "outputs": [],
   "source": [
    "coords = swap_chirality(coords)"
   ]
  },
  {
   "cell_type": "code",
   "execution_count": 51,
   "id": "79d4d172",
   "metadata": {
    "hidden": true
   },
   "outputs": [
    {
     "data": {
      "image/png": "[encoded data removed]",
      "text/plain": [
       "<Figure size 432x288 with 1 Axes>"
      ]
     },
     "metadata": {
      "needs_background": "light"
     },
     "output_type": "display_data"
    }
   ],
   "source": [
    "plot(coords)"
   ]
  },
  {
   "cell_type": "code",
   "execution_count": 52,
   "id": "4568312a",
   "metadata": {
    "hidden": true
   },
   "outputs": [],
   "source": [
    "export(\n",
    "    coords=coords, \n",
    "    types=['A']*len(coords), \n",
    "    symmetry=\"c6\",\n",
    "    theta=0.0,\n",
    "    filename=\"c6_swirl_D.json\"\n",
    ")"
   ]
  },
  {
   "cell_type": "code",
   "execution_count": null,
   "id": "28225cba",
   "metadata": {
    "hidden": true
   },
   "outputs": [],
   "source": []
  }
 ],
 "metadata": {
  "kernelspec": {
   "display_name": "py37",
   "language": "python",
   "name": "py37"
  },
  "language_info": {
   "codemirror_mode": {
    "name": "ipython",
    "version": 3
   },
   "file_extension": ".py",
   "mimetype": "text/x-python",
   "name": "python",
   "nbconvert_exporter": "python",
   "pygments_lexer": "ipython3",
   "version": "3.7.13"
  },
  "toc": {
   "base_numbering": 1,
   "nav_menu": {},
   "number_sections": true,
   "sideBar": true,
   "skip_h1_title": false,
   "title_cell": "Table of Contents",
   "title_sidebar": "Contents",
   "toc_cell": true,
   "toc_position": {},
   "toc_section_display": true,
   "toc_window_display": false
  }
 },
 "nbformat": 4,
 "nbformat_minor": 5
}
