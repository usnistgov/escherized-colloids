{
 "cells": [
  {
   "cell_type": "markdown",
   "metadata": {
    "toc": true
   },
   "source": [
    "<h1>Table of Contents<span class=\"tocSkip\"></span></h1>\n",
    "<div class=\"toc\"><ul class=\"toc-item\"><li><span><a href=\"#Tools\" data-toc-modified-id=\"Tools-1\"><span class=\"toc-item-num\">1&nbsp;&nbsp;</span>Tools</a></span></li><li><span><a href=\"#$d_{\\infty}$-Circle-(approximately)\" data-toc-modified-id=\"$d_{\\infty}$-Circle-(approximately)-2\"><span class=\"toc-item-num\">2&nbsp;&nbsp;</span>$d_{\\infty}$ Circle (approximately)</a></span></li><li><span><a href=\"#d1---Vitruvian-Man\" data-toc-modified-id=\"d1---Vitruvian-Man-3\"><span class=\"toc-item-num\">3&nbsp;&nbsp;</span>d1 - Vitruvian Man</a></span></li><li><span><a href=\"#d2---Dumbbell\" data-toc-modified-id=\"d2---Dumbbell-4\"><span class=\"toc-item-num\">4&nbsp;&nbsp;</span>d2 - Dumbbell</a></span></li><li><span><a href=\"#d3---Triangle\" data-toc-modified-id=\"d3---Triangle-5\"><span class=\"toc-item-num\">5&nbsp;&nbsp;</span>d3 - Triangle</a></span></li><li><span><a href=\"#d4---Square\" data-toc-modified-id=\"d4---Square-6\"><span class=\"toc-item-num\">6&nbsp;&nbsp;</span>d4 - Square</a></span></li><li><span><a href=\"#d6---Hexagon\" data-toc-modified-id=\"d6---Hexagon-7\"><span class=\"toc-item-num\">7&nbsp;&nbsp;</span>d6 - Hexagon</a></span></li><li><span><a href=\"#c1---Random-Pattern-(asymmetric)\" data-toc-modified-id=\"c1---Random-Pattern-(asymmetric)-8\"><span class=\"toc-item-num\">8&nbsp;&nbsp;</span>c1 - Random Pattern (asymmetric)</a></span></li><li><span><a href=\"#c2--\" data-toc-modified-id=\"c2---9\"><span class=\"toc-item-num\">9&nbsp;&nbsp;</span>c2 -</a></span></li><li><span><a href=\"#c3--\" data-toc-modified-id=\"c3---10\"><span class=\"toc-item-num\">10&nbsp;&nbsp;</span>c3 -</a></span></li><li><span><a href=\"#c4--\" data-toc-modified-id=\"c4---11\"><span class=\"toc-item-num\">11&nbsp;&nbsp;</span>c4 -</a></span></li><li><span><a href=\"#c6--\" data-toc-modified-id=\"c6---12\"><span class=\"toc-item-num\">12&nbsp;&nbsp;</span>c6 -</a></span></li></ul></div>"
   ]
  },
  {
   "cell_type": "markdown",
   "metadata": {},
   "source": [
    "Here we manually create some motifs to use as colloidal components"
   ]
  },
  {
   "cell_type": "code",
   "execution_count": 1,
   "metadata": {},
   "outputs": [],
   "source": [
    "import json\n",
    "import numpy as np\n",
    "import matplotlib.pyplot as plt\n",
    "%matplotlib inline\n",
    "\n",
    "%load_ext autoreload\n",
    "%autoreload 2"
   ]
  },
  {
   "cell_type": "markdown",
   "metadata": {
    "heading_collapsed": true
   },
   "source": [
    "# Tools"
   ]
  },
  {
   "cell_type": "code",
   "execution_count": 2,
   "metadata": {
    "hidden": true
   },
   "outputs": [],
   "source": [
    "import copy\n",
    "def compress(coords): # Compress into [0,1] window to make it easier on Tactile\n",
    "    compressed = copy.copy(coords)\n",
    "    bb = np.min(compressed, axis=0)\n",
    "    compressed -= bb\n",
    "\n",
    "    bb = np.max(compressed, axis=0)\n",
    "    compressed = compressed/bb\n",
    "    \n",
    "    return compressed\n",
    "\n",
    "def plot_motif(coords, types): # Visualize to make sure it appears correct\n",
    "    types = np.array(types)\n",
    "    plt.figure()\n",
    "    for i,t in enumerate(np.unique(types)):\n",
    "        mask = types == t\n",
    "        plt.plot(coords[mask,0], coords[mask,1], marker='o', lw=0, color='C{}'.format(i))\n",
    "    _ = plt.gca().axis('equal')\n",
    "    \n",
    "def save(coords, types, symmetry, filename): # Save to JSON file\n",
    "    info = {\n",
    "        \"symmetry\": symmetry,\n",
    "        \"coords\": coords.tolist(),\n",
    "        \"types\": types,\n",
    "        \"theta\": 0.0\n",
    "    }\n",
    "    json.dump(info, open(filename, 'w'), indent=4)\n",
    "    \n",
    "def distance(x, y, x0, y0):\n",
    "    return np.sqrt(np.sum((x-x0)**2 + (y-y0)**2))\n",
    "\n",
    "def rotation(theta):\n",
    "    R = np.array(\n",
    "        [[np.cos(2*theta), np.sin(2*theta)],\n",
    "        [np.sin(2*theta), -np.cos(2*theta)]]\n",
    "    )\n",
    "    return R"
   ]
  },
  {
   "cell_type": "markdown",
   "metadata": {
    "heading_collapsed": true
   },
   "source": [
    "# $d_{\\infty}$ Circle (approximately)"
   ]
  },
  {
   "cell_type": "code",
   "execution_count": 16,
   "metadata": {
    "hidden": true
   },
   "outputs": [],
   "source": [
    "N = 20 # < inf\n",
    "x = [np.cos(2*np.pi/N*i)*0.5 for i in range(0, N)]\n",
    "y = [np.sin(2*np.pi/N*i)*0.5 for i in range(0, N)]\n",
    "coords = np.vstack((x,y)).T\n",
    "types = ['A']*len(coords)"
   ]
  },
  {
   "cell_type": "code",
   "execution_count": 17,
   "metadata": {
    "hidden": true
   },
   "outputs": [
    {
     "data": {
      "image/png": "[encoded data removed]",
      "text/plain": [
       "<Figure size 432x288 with 1 Axes>"
      ]
     },
     "metadata": {
      "needs_background": "light"
     },
     "output_type": "display_data"
    }
   ],
   "source": [
    "plot_motif(coords, types)"
   ]
  },
  {
   "cell_type": "code",
   "execution_count": 18,
   "metadata": {
    "hidden": true
   },
   "outputs": [],
   "source": [
    "save(coords, types, \"d_inf\", \"d_inf_circle.json\")"
   ]
  },
  {
   "cell_type": "markdown",
   "metadata": {
    "heading_collapsed": true
   },
   "source": [
    "# d1 - Vitruvian Man"
   ]
  },
  {
   "cell_type": "code",
   "execution_count": 19,
   "metadata": {
    "hidden": true
   },
   "outputs": [],
   "source": [
    "coords = [\n",
    "    [0, 0],\n",
    "    [0, -1],\n",
    "    [-1, -1],\n",
    "    [-2, -1],\n",
    "    [-2, -2],\n",
    "    [1, -1],\n",
    "    [2, -1],\n",
    "    [2, -2],\n",
    "    [0, -2],\n",
    "    [0, -3],\n",
    "    [-1, -3],\n",
    "    [-1, -4],\n",
    "    [1, -3],\n",
    "    [1, -4]\n",
    "]\n",
    "\n",
    "coords = np.array(coords)\n",
    "types = ['A']*len(coords)"
   ]
  },
  {
   "cell_type": "code",
   "execution_count": 20,
   "metadata": {
    "hidden": true
   },
   "outputs": [
    {
     "data": {
      "image/png": "[encoded data removed]",
      "text/plain": [
       "<Figure size 432x288 with 1 Axes>"
      ]
     },
     "metadata": {
      "needs_background": "light"
     },
     "output_type": "display_data"
    }
   ],
   "source": [
    "coords = compress(coords)\n",
    "plot_motif(coords, types)"
   ]
  },
  {
   "cell_type": "code",
   "execution_count": 21,
   "metadata": {
    "hidden": true
   },
   "outputs": [],
   "source": [
    "save(coords, types, \"d1\", \"d1_vitruvian.json\")"
   ]
  },
  {
   "cell_type": "markdown",
   "metadata": {
    "heading_collapsed": true
   },
   "source": [
    "# d2 - Dumbbell"
   ]
  },
  {
   "cell_type": "code",
   "execution_count": 58,
   "metadata": {
    "hidden": true
   },
   "outputs": [],
   "source": [
    "N = 10 # Needs to be even\n",
    "r = 0.25\n",
    "x = [np.cos(2*np.pi/N*i)*r - r for i in range(0, N)]\n",
    "y = [np.sin(2*np.pi/N*i)*r for i in range(0, N)]\n",
    "coords = np.vstack((x,y)).T\n",
    "coords = np.vstack((coords, coords + [2.1*r, 0]))\n",
    "types = ['A']*len(coords)"
   ]
  },
  {
   "cell_type": "code",
   "execution_count": 59,
   "metadata": {
    "hidden": true
   },
   "outputs": [
    {
     "data": {
      "image/png": "[encoded data removed]",
      "text/plain": [
       "<Figure size 432x288 with 1 Axes>"
      ]
     },
     "metadata": {
      "needs_background": "light"
     },
     "output_type": "display_data"
    }
   ],
   "source": [
    "# coords = compress(coords)\n",
    "plot_motif(coords, types)"
   ]
  },
  {
   "cell_type": "code",
   "execution_count": 60,
   "metadata": {
    "hidden": true
   },
   "outputs": [],
   "source": [
    "save(coords, types, \"d2\", \"d2_dumbbell.json\")"
   ]
  },
  {
   "cell_type": "markdown",
   "metadata": {
    "heading_collapsed": true
   },
   "source": [
    "# d3 - Triangle"
   ]
  },
  {
   "cell_type": "code",
   "execution_count": 61,
   "metadata": {
    "hidden": true
   },
   "outputs": [],
   "source": [
    "N = 10\n",
    "l1 = np.array(list(zip(np.linspace(0, 1, N), [0]*N)))\n",
    "l2 = np.matmul(l1, rotation(np.pi/6.))\n",
    "l3 = np.matmul(l1, rotation(-np.pi/6.)) + np.array([1/2., np.sqrt(3.0)/2.*1])"
   ]
  },
  {
   "cell_type": "code",
   "execution_count": 62,
   "metadata": {
    "hidden": true
   },
   "outputs": [],
   "source": [
    "coords = np.vstack((l1[:-1,:], l2[1:,:], l3[1:,:]))\n",
    "types = ['A']*len(coords)"
   ]
  },
  {
   "cell_type": "code",
   "execution_count": 63,
   "metadata": {
    "hidden": true
   },
   "outputs": [
    {
     "data": {
      "image/png": "[encoded data removed]",
      "text/plain": [
       "<Figure size 432x288 with 1 Axes>"
      ]
     },
     "metadata": {
      "needs_background": "light"
     },
     "output_type": "display_data"
    }
   ],
   "source": [
    "plot_motif(coords, types)"
   ]
  },
  {
   "cell_type": "code",
   "execution_count": 64,
   "metadata": {
    "hidden": true
   },
   "outputs": [],
   "source": [
    "save(coords, types, \"d3\", \"d3_triangle.json\")"
   ]
  },
  {
   "cell_type": "markdown",
   "metadata": {
    "heading_collapsed": true
   },
   "source": [
    "# d4 - Square"
   ]
  },
  {
   "cell_type": "code",
   "execution_count": 70,
   "metadata": {
    "hidden": true
   },
   "outputs": [],
   "source": [
    "N = 10\n",
    "l1 = np.array(list(zip(np.linspace(0, 1, N), [0]*N)))\n",
    "l2 = np.matmul(l1, rotation(np.pi/4.))\n",
    "l3 = l1 + np.array([0, 1])\n",
    "l4 = copy.copy(l2) + np.array([1, 0])\n",
    "\n",
    "coords = np.vstack((l1, l2[1:], l3[1:], l4[1:-1,:]))\n",
    "types = ['A']*len(coords)"
   ]
  },
  {
   "cell_type": "code",
   "execution_count": 71,
   "metadata": {
    "hidden": true
   },
   "outputs": [
    {
     "data": {
      "image/png": "[encoded data removed]",
      "text/plain": [
       "<Figure size 432x288 with 1 Axes>"
      ]
     },
     "metadata": {
      "needs_background": "light"
     },
     "output_type": "display_data"
    }
   ],
   "source": [
    "coords = compress(coords)\n",
    "plot_motif(coords, types)"
   ]
  },
  {
   "cell_type": "code",
   "execution_count": 72,
   "metadata": {
    "hidden": true
   },
   "outputs": [],
   "source": [
    "save(coords, types, \"d4\", \"d4_square.json\")"
   ]
  },
  {
   "cell_type": "markdown",
   "metadata": {
    "heading_collapsed": true
   },
   "source": [
    "# d6 - Hexagon"
   ]
  },
  {
   "cell_type": "code",
   "execution_count": 73,
   "metadata": {
    "hidden": true
   },
   "outputs": [],
   "source": [
    "N = 10\n",
    "l1 = np.array(list(zip(np.linspace(0, 1, N), [0]*N)))\n",
    "l2 = np.matmul(l1, rotation(-2*np.pi/3.))\n",
    "l3 = np.matmul(l1, rotation(-4*np.pi/3.))\n",
    "l3 += (l2[-1] - l3[-1])\n",
    "l4 = copy.copy(l1) + l3[0]\n",
    "l5 = np.matmul(l3, np.array([[-1, 0],[0, 1]])) + np.array([1.0, 0])\n",
    "l6 = np.matmul(l2, np.array([[-1, 0],[0, 1]])) + np.array([1.0, 0])\n",
    "\n",
    "coords = np.vstack((l1[1:], l2[:-1], l3[1:], l4[:-1], l5[:-1], l6[1:]))\n",
    "types = ['A']*len(coords)"
   ]
  },
  {
   "cell_type": "code",
   "execution_count": 74,
   "metadata": {
    "hidden": true
   },
   "outputs": [
    {
     "data": {
      "image/png": "[encoded data removed]",
      "text/plain": [
       "<Figure size 432x288 with 1 Axes>"
      ]
     },
     "metadata": {
      "needs_background": "light"
     },
     "output_type": "display_data"
    }
   ],
   "source": [
    "plot_motif(coords, types)"
   ]
  },
  {
   "cell_type": "code",
   "execution_count": 75,
   "metadata": {
    "hidden": true
   },
   "outputs": [],
   "source": [
    "save(coords, types, \"d6\", \"d6_hexagon.json\")"
   ]
  },
  {
   "cell_type": "markdown",
   "metadata": {
    "heading_collapsed": true
   },
   "source": [
    "# c1 - Random Pattern (asymmetric)"
   ]
  },
  {
   "cell_type": "code",
   "execution_count": 76,
   "metadata": {
    "hidden": true
   },
   "outputs": [
    {
     "data": {
      "text/plain": [
       "[<matplotlib.lines.Line2D at 0x7fec317146d0>]"
      ]
     },
     "execution_count": 76,
     "metadata": {},
     "output_type": "execute_result"
    },
    {
     "data": {
      "image/png": "[encoded data removed]",
      "text/plain": [
       "<Figure size 432x288 with 1 Axes>"
      ]
     },
     "metadata": {
      "needs_background": "light"
     },
     "output_type": "display_data"
    }
   ],
   "source": [
    "# Create a shape from a convex hull of random points\n",
    "\n",
    "np.random.seed(0)\n",
    "N = 10\n",
    "coords = np.array(list(zip(np.random.random(N), np.random.random(N))))\n",
    "types = ['A']*len(coords)\n",
    "\n",
    "coords = compress(coords)\n",
    "\n",
    "from scipy.spatial import ConvexHull\n",
    "h = ConvexHull(coords)\n",
    "for simplex in h.simplices:\n",
    "    plt.plot(coords[simplex, 0], coords[simplex, 1], 'k-')\n",
    "plt.plot(coords[:,0], coords[:,1], 'ro')"
   ]
  },
  {
   "cell_type": "code",
   "execution_count": 77,
   "metadata": {
    "hidden": true
   },
   "outputs": [],
   "source": [
    "# Interpolate along vertices to densify the boundary\n",
    "points = None\n",
    "N = 5\n",
    "for simplex in h.simplices:\n",
    "    dx, dy = coords[simplex, 0], coords[simplex, 1]\n",
    "    x = np.linspace(dx[0], dx[1], N)\n",
    "    y = np.linspace(dy[0], dy[1], N)\n",
    "    new_points = np.array(list(zip(x,y)))\n",
    "    if points is None:\n",
    "        points = new_points\n",
    "    else:\n",
    "        points = np.vstack((points, new_points))"
   ]
  },
  {
   "cell_type": "code",
   "execution_count": 78,
   "metadata": {
    "hidden": true
   },
   "outputs": [],
   "source": [
    "coords = np.unique(points, axis=0)\n",
    "types = ['A']*len(coords)"
   ]
  },
  {
   "cell_type": "code",
   "execution_count": 79,
   "metadata": {
    "hidden": true
   },
   "outputs": [
    {
     "data": {
      "image/png": "[encoded data removed]",
      "text/plain": [
       "<Figure size 432x288 with 1 Axes>"
      ]
     },
     "metadata": {
      "needs_background": "light"
     },
     "output_type": "display_data"
    }
   ],
   "source": [
    "plot_motif(coords, types)"
   ]
  },
  {
   "cell_type": "code",
   "execution_count": 80,
   "metadata": {
    "hidden": true
   },
   "outputs": [],
   "source": [
    "save(coords, types, \"c1\", \"c1_random.json\")"
   ]
  },
  {
   "cell_type": "markdown",
   "metadata": {},
   "source": [
    "# c2 -"
   ]
  },
  {
   "cell_type": "markdown",
   "metadata": {},
   "source": [
    "# c3 - "
   ]
  },
  {
   "cell_type": "markdown",
   "metadata": {},
   "source": [
    "# c4 - "
   ]
  },
  {
   "cell_type": "markdown",
   "metadata": {},
   "source": [
    "# c6 - "
   ]
  }
 ],
 "metadata": {
  "kernelspec": {
   "display_name": "Python 3",
   "language": "python",
   "name": "python3"
  },
  "language_info": {
   "codemirror_mode": {
    "name": "ipython",
    "version": 3
   },
   "file_extension": ".py",
   "mimetype": "text/x-python",
   "name": "python",
   "nbconvert_exporter": "python",
   "pygments_lexer": "ipython3",
   "version": "3.7.4"
  },
  "toc": {
   "base_numbering": 1,
   "nav_menu": {},
   "number_sections": true,
   "sideBar": true,
   "skip_h1_title": false,
   "title_cell": "Table of Contents",
   "title_sidebar": "Contents",
   "toc_cell": true,
   "toc_position": {},
   "toc_section_display": true,
   "toc_window_display": false
  }
 },
 "nbformat": 4,
 "nbformat_minor": 2
}
