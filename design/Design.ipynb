{
 "cells": [
  {
   "cell_type": "markdown",
   "metadata": {
    "toc": true
   },
   "source": [
    "<h1>Table of Contents<span class=\"tocSkip\"></span></h1>\n",
    "<div class=\"toc\"><ul class=\"toc-item\"><li><ul class=\"toc-item\"><li><span><a href=\"#Overview\" data-toc-modified-id=\"Overview-0.1\"><span class=\"toc-item-num\">0.1&nbsp;&nbsp;</span>Overview</a></span></li></ul></li><li><span><a href=\"#Tools\" data-toc-modified-id=\"Tools-1\"><span class=\"toc-item-num\">1&nbsp;&nbsp;</span>Tools</a></span></li><li><span><a href=\"#Select-your-motif\" data-toc-modified-id=\"Select-your-motif-2\"><span class=\"toc-item-num\">2&nbsp;&nbsp;</span>Select your motif</a></span></li><li><span><a href=\"#Check-the-motif's-point-symmetry\" data-toc-modified-id=\"Check-the-motif's-point-symmetry-3\"><span class=\"toc-item-num\">3&nbsp;&nbsp;</span>Check the motif's point symmetry</a></span></li><li><span><a href=\"#Select-the-global-pattern-symmetry\" data-toc-modified-id=\"Select-the-global-pattern-symmetry-4\"><span class=\"toc-item-num\">4&nbsp;&nbsp;</span>Select the global pattern symmetry</a></span></li><li><span><a href=\"#Proceed-to-Step-3\" data-toc-modified-id=\"Proceed-to-Step-3-5\"><span class=\"toc-item-num\">5&nbsp;&nbsp;</span>Proceed to Step 3</a></span></li></ul></div>"
   ]
  },
  {
   "cell_type": "code",
   "execution_count": null,
   "metadata": {},
   "outputs": [],
   "source": [
    "import json, os, sys\n",
    "import numpy as np\n",
    "import pandas as pd\n",
    "import ipywidgets as widgets\n",
    "import matplotlib.pyplot as plt\n",
    "%matplotlib inline\n",
    "\n",
    "%load_ext autoreload\n",
    "%autoreload 2"
   ]
  },
  {
   "cell_type": "markdown",
   "metadata": {},
   "source": [
    "Overview\n",
    "--------\n",
    "This is **STEP 2** in the design procedure. If you plan to use default motifs you may proceed; otherwise go to `motif_library/Create_Motifs.ipynb` to design your motif first."
   ]
  },
  {
   "cell_type": "markdown",
   "metadata": {
    "heading_collapsed": true
   },
   "source": [
    "# Tools"
   ]
  },
  {
   "cell_type": "code",
   "execution_count": null,
   "metadata": {
    "hidden": true
   },
   "outputs": [],
   "source": [
    "library = '../motif_library/'\n",
    "motif_coords = None\n",
    "motif_types = None\n",
    "motif_point_symmetry = None\n",
    "induced = 'c1'\n",
    "\n",
    "motif_selector = widgets.Dropdown(\n",
    "    options=[f for f in os.listdir(library) if f.endswith('.json')],\n",
    "    description='Motif',\n",
    "    disabled=False,\n",
    "    value=None\n",
    ")\n",
    "\n",
    "def on_motif_change(v):\n",
    "    global motif_coords\n",
    "    global motif_types\n",
    "    global motif_point_symmetry\n",
    "    info = json.load(open(library+v['new'], 'r'))\n",
    "    motif_coords = info['coords'] \n",
    "    motif_types = info['types'] \n",
    "    motif_point_symmetry = info['symmetry'] \n",
    "\n",
    "motif_selector.observe(on_motif_change, names='value')\n",
    "\n",
    "induced_selector = widgets.ToggleButtons(\n",
    "    options=['Ignore (c1)', 'Use motif'],\n",
    "    description=r'$S(\\mathcal{P}|M):$',\n",
    "    disabled=False,\n",
    "    button_style='info', \n",
    "    tooltips=['Do not extend any of motif\\'s symmetry to the tiling', 'Use some of motif\\'s symmetry in tiling'],\n",
    ")\n",
    "\n",
    "def on_induced_change(v):\n",
    "    global induced\n",
    "    if v['new'] == \"Use motif\":\n",
    "        induced = motif_point_symmetry\n",
    "    else:\n",
    "        induced = 'c1'\n",
    "\n",
    "induced_selector.observe(on_induced_change, names='value')\n",
    "\n",
    "def plot(coords):\n",
    "    coords = np.array(coords)\n",
    "    plt.plot(coords[:,0], coords[:,1], 'o')\n",
    "    plt.gca().axis('equal')\n",
    "    \n",
    "def convert_pym_sch(sch):\n",
    "    \"\"\"\n",
    "    Convert 3D Schoenflies notation from pymatgen to 2D.\n",
    "    \n",
    "    All \"molecules\" are expected to be planar so the \"z\"-plane\n",
    "    is effectively a \"horizontal\" mirror. \n",
    "    \n",
    "    This also is designed to specifically handle to the \n",
    "    way that pymatgen responds; if pymatgen conventions change\n",
    "    this might need to be updated.\n",
    "    \n",
    "    See visualizations and references here:\n",
    "    * https://demonstrations.wolfram.com/MolecularPointGroups/\n",
    "    * https://en.wikipedia.org/wiki/Schoenflies_notation\n",
    "    * https://en.wikipedia.org/wiki/Point_groups_in_three_dimensions\n",
    "    \"\"\"\n",
    "\n",
    "    if sch == \"C1\" or sch == \"C1h\" or sch == \"C1v\" or sch == \"Cs\": # From wiki\n",
    "        return \"c1\"\n",
    "    elif sch == \"C2v\" or sch == \"D1h\": # From wiki\n",
    "        return \"d1\"\n",
    "    elif sch.endswith(\"h\") :\n",
    "        return sch[:2].lower() # Dxh = dx, Cxh = cx\n",
    "    else:\n",
    "        raise Exception(\"unrecognized Schoenflies point group {}\".format(sch))"
   ]
  },
  {
   "cell_type": "markdown",
   "metadata": {
    "heading_collapsed": true
   },
   "source": [
    "# 1. Select your motif"
   ]
  },
  {
   "cell_type": "code",
   "execution_count": null,
   "metadata": {
    "hidden": true
   },
   "outputs": [],
   "source": [
    "display(motif_selector)"
   ]
  },
  {
   "cell_type": "code",
   "execution_count": null,
   "metadata": {
    "hidden": true
   },
   "outputs": [],
   "source": [
    "plot(motif_coords)"
   ]
  },
  {
   "cell_type": "markdown",
   "metadata": {
    "heading_collapsed": true
   },
   "source": [
    "# 1b. (Optional) Check the motif's point symmetry"
   ]
  },
  {
   "cell_type": "markdown",
   "metadata": {
    "hidden": true
   },
   "source": [
    "You must have [pymatgen](https://pymatgen.org/index.html) installed for this to work, otherwise you can consider doing this manually and can skip ahead.\n",
    "\n",
    "**Note**: this is intended to be a helpful check, but ultimately symmetry determination has a numerical precision associated with it.  If points are too close together, or tolerances poor, a bad assignment can be made.  The user should always check these results make sense. A circle, for example, if represented by a set of points always has finite symmetry, not $d_{\\infty}$. This section is just to provide an attempted check of the motif the user manually created (and assigned a 2D point symmetry).  "
   ]
  },
  {
   "cell_type": "code",
   "execution_count": null,
   "metadata": {
    "hidden": true
   },
   "outputs": [],
   "source": [
    "if 'pymatgen' in sys.modules:\n",
    "    import pymatgen.symmetry.analyzer as psa\n",
    "    from pymatgen.core.structure import Molecule\n",
    "    from scipy.spatial import distance_matrix\n",
    "    \n",
    "    # For numerical reasons, pymatgen works best when things are at least 1A apart, so center and scale\n",
    "    # so nearest particles are 1 \"unit\" apart\n",
    "    min_d = np.min(distance_matrix(motif_coords, motif_coords)[np.triu_indices(len(motif_coords), 1)])\n",
    "    safer_coords = (motif_coords - np.mean(motif_coords, axis=0))/min_d\n",
    "\n",
    "    mol = Molecule(\n",
    "        species=[\"H\"]*len(safer_coords),\n",
    "        coords=np.hstack((np.array(safer_coords), np.zeros((len(safer_coords),1)))),\n",
    "        validate_proximity=True\n",
    "    )\n",
    "\n",
    "    a = psa.PointGroupAnalyzer(mol, tolerance=0.3, eigen_tolerance=0.01)\n",
    "    pmg_symm = convert_pym_sch(a.sch_symbol)\n",
    "    \n",
    "    # Check that pymatgen agrees with the library file\n",
    "    assert(motif_point_symmetry == pmg_symm), 'pymatgen and library file do not agree on symmetry'\n",
    "else:\n",
    "    print('pymatgen is not installed, cannot perform symmetry check')"
   ]
  },
  {
   "cell_type": "markdown",
   "metadata": {
    "heading_collapsed": true
   },
   "source": [
    "# 2. Select the global pattern symmetry"
   ]
  },
  {
   "cell_type": "markdown",
   "metadata": {
    "hidden": true
   },
   "source": [
    "Remember, if a motif has a certain symmetry (e.g., $S(M) = c6$), it can induce any of its subgroups (e.g., $S(\\mathcal{P}|M) = c3$)\n",
    "\n",
    "1. [**safe**] If $S(\\mathcal{P}|M)$ = $S(M)$ then you can use these IH tiles without fear. The escherization *algorithm* will place the motif so that it induces all of its symmetries on the pattern, and since the motif has no more, there are no potential problems. \n",
    "\n",
    "2. [**forbidden**] \n",
    "* Cause 1: A pattern type is forbidden if it requires the induction of a set of symmetries the motif does not have; i.e., $S(\\mathcal{P}|M) \\not\\le S(M)$; for example, you cannot induce d3 if the motif has d4 symmetry. Conversely, in this example it might be possible if the motif has d6 symmetry (see *dangerous* category below).\n",
    "* Cause 2: If a proper subset (proper subgroup) of the motif's symmetries are induced on the pattern, $S(\\mathcal{P}|M) < S(M)$, you have to check that the motif's \"extra\" symmetries don't cause it to be strictly forbidden. \n",
    "\n",
    "    > Check for all $X$ such that $S(\\mathcal{P}|M) < X \\le S(M)$: If any such $X$ is a (minimal) forbidden supergroup, then this tile cannot be used since it will certainly create a different pattern than expected.\n",
    "\n",
    "    In other words, when the motif induces $S(\\mathcal{P}|M)$ by using some of its symmetries, at least some of its extra symmetries **always** yield a net result of an even more symmetric global pattern which changes the pattern type (not always the symmetry, though, but usually - cf. G&S, PP31->32 and PP40->41).  As best practice, I will just take this as a requirement. \n",
    "\n",
    "3. [**dangerous**] There is also a third case where $S(\\mathcal{P}|M) < S(M)$ and neither $S(M)$, nor any of its subgroups, are strictly forbidden, but if the motif is oriented on tile in a special way or the tile has the right shape, for example, it is possible to change the pattern type. Consider the following example:\n",
    "\n",
    "    * If $S(M) =$ d2, can make PP20 with IH 17, 74 without any problem. [**safe**]\n",
    "    * If $S(M) =$ d4, it is possible to make PP20 with these IH tiles, and d4 is not *strictly* forbidden. [**dangerous**]\n",
    "    * However, if those tiles have a certain shape then the cmm group these belong to can induce d4 which promotes the pattern's overall symmetry to p4m, so d4 is *sometimes* incorrect.  Of course, c1 is always a subgroup.\n",
    "    \n",
    "The **safe** and **forbidden** cases are the \"black and white\" ends of the spectrum; the \"dangerous\" ones are a gray area.  They offer the possibility of creating additional symmetries that might not be strictly safe, but require that you be careful with your design. If we make a dangerous choice, we can gain insight into the problems that might arise by using the `watch_out_for` function.\n",
    "\n",
    "Some interesting limits:\n",
    "* $S(M) = d_{\\infty}$ (Isotropic circle - None are safe, all pattern types with no strictly forbidden supergroups are dangerous, while the rest are forbidden)\n",
    "* $S(M) = c1$ (Asymmetric motif - the 46 FD tiles with MTPS which are \"Primitive\" are all safe, 0 are dangerous, while the other 47 tiles are forbidden)\n",
    "\n",
    "Notes on Notation:\n",
    "* [Subgroups](https://mathworld.wolfram.com/Subgroup.html)\n",
    "* [Proper Subgroups](https://mathworld.wolfram.com/ProperSubgroup.html)\n",
    "* [Symbols](https://www.mathsisfun.com/sets/symbols.html)"
   ]
  },
  {
   "cell_type": "code",
   "execution_count": null,
   "metadata": {
    "hidden": true
   },
   "outputs": [],
   "source": [
    "## To see this example, uncomment the line below\n",
    "# motif_point_symmetry = 'd4'"
   ]
  },
  {
   "cell_type": "code",
   "execution_count": null,
   "metadata": {
    "hidden": true
   },
   "outputs": [],
   "source": [
    "import table\n",
    "safe, dangerous, forbidden = table.prioritize(motif_point_symmetry)     "
   ]
  },
  {
   "cell_type": "code",
   "execution_count": null,
   "metadata": {
    "hidden": true
   },
   "outputs": [],
   "source": [
    "safe.style.hide_index()"
   ]
  },
  {
   "cell_type": "code",
   "execution_count": null,
   "metadata": {
    "hidden": true
   },
   "outputs": [],
   "source": [
    "dangerous.style.hide_index()"
   ]
  },
  {
   "cell_type": "code",
   "execution_count": null,
   "metadata": {
    "hidden": true
   },
   "outputs": [],
   "source": [
    "# Pay attention to the S(P) column which indicates possible symmetries that could result instead of what you want\n",
    "# table.watch_out_for(17, dangerous, motif_point_symmetry).style.hide_index()"
   ]
  },
  {
   "cell_type": "code",
   "execution_count": null,
   "metadata": {
    "hidden": true
   },
   "outputs": [],
   "source": [
    "forbidden.style.hide_index()"
   ]
  },
  {
   "cell_type": "markdown",
   "metadata": {
    "heading_collapsed": true
   },
   "source": [
    "# Proceed to Step 3"
   ]
  },
  {
   "cell_type": "markdown",
   "metadata": {
    "hidden": true
   },
   "source": [
    "3a. (optional) Visit [https://isohedral.ca/software/tactile/](https://isohedral.ca/software/tactile/) for an interactive experience with the tile you have selected.\n",
    "\n",
    "3b. Use `examples/pso_safe` and/or `examples/pso_dangerous` for an illustration of how to use particle swarm optimization (PSO) to optimize a tile to \"fit\" around a motif and create a colloid out of the two.\n",
    "\n",
    "3c. Run the optimization.\n",
    "\n",
    "3d. Check your results. If you are using a \"safe\" choice, you are guaranteed to have the final desired symmetry; however, a \"dangerous\" choice may lead to something unexpected. In the latter case, use the `watch_out_for()` function to help point out what symmetry you might end up with instead.\n",
    "\n",
    "* As best practice, you should **always** create a non-primitive unit cell (e.g., 3x3) and visually check what symmetry your final design will have.\n",
    "\n",
    "* See `Colloid::unitCell()` C++ function and `examples/unit_cell`."
   ]
  },
  {
   "cell_type": "code",
   "execution_count": null,
   "metadata": {
    "hidden": true
   },
   "outputs": [],
   "source": []
  }
 ],
 "metadata": {
  "kernelspec": {
   "display_name": "py37",
   "language": "python",
   "name": "py37"
  },
  "language_info": {
   "codemirror_mode": {
    "name": "ipython",
    "version": 3
   },
   "file_extension": ".py",
   "mimetype": "text/x-python",
   "name": "python",
   "nbconvert_exporter": "python",
   "pygments_lexer": "ipython3",
   "version": "3.7.13"
  },
  "toc": {
   "base_numbering": 1,
   "nav_menu": {},
   "number_sections": true,
   "sideBar": true,
   "skip_h1_title": false,
   "title_cell": "Table of Contents",
   "title_sidebar": "Contents",
   "toc_cell": true,
   "toc_position": {},
   "toc_section_display": true,
   "toc_window_display": false
  }
 },
 "nbformat": 4,
 "nbformat_minor": 2
}
