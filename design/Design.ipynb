{
 "cells": [
  {
   "cell_type": "markdown",
   "metadata": {
    "toc": true
   },
   "source": [
    "<h1>Table of Contents<span class=\"tocSkip\"></span></h1>\n",
    "<div class=\"toc\"><ul class=\"toc-item\"><li><span><a href=\"#Tools\" data-toc-modified-id=\"Tools-1\"><span class=\"toc-item-num\">1&nbsp;&nbsp;</span>Tools</a></span></li><li><span><a href=\"#Select-your-motif\" data-toc-modified-id=\"Select-your-motif-2\"><span class=\"toc-item-num\">2&nbsp;&nbsp;</span>Select your motif</a></span></li><li><span><a href=\"#Check-the-motif's-point-symmetry\" data-toc-modified-id=\"Check-the-motif's-point-symmetry-3\"><span class=\"toc-item-num\">3&nbsp;&nbsp;</span>Check the motif's point symmetry</a></span></li><li><span><a href=\"#Select-the-global-pattern-symmetry\" data-toc-modified-id=\"Select-the-global-pattern-symmetry-4\"><span class=\"toc-item-num\">4&nbsp;&nbsp;</span>Select the global pattern symmetry</a></span></li></ul></div>"
   ]
  },
  {
   "cell_type": "code",
   "execution_count": 82,
   "metadata": {},
   "outputs": [
    {
     "name": "stdout",
     "output_type": "stream",
     "text": [
      "The autoreload extension is already loaded. To reload it, use:\n",
      "  %reload_ext autoreload\n"
     ]
    }
   ],
   "source": [
    "import json, os\n",
    "import numpy as np\n",
    "import pandas as pd\n",
    "import ipywidgets as widgets\n",
    "import matplotlib.pyplot as plt\n",
    "%matplotlib inline\n",
    "\n",
    "%load_ext autoreload\n",
    "%autoreload 2"
   ]
  },
  {
   "cell_type": "markdown",
   "metadata": {},
   "source": [
    "# Tools"
   ]
  },
  {
   "cell_type": "code",
   "execution_count": 114,
   "metadata": {},
   "outputs": [],
   "source": [
    "library = '../motif_library/'\n",
    "motif_coords = None\n",
    "motif_types = None\n",
    "motif_symmetry = None\n",
    "stabilizer = 'c1'\n",
    "\n",
    "motif_selector = widgets.Dropdown(\n",
    "    options=[f for f in os.listdir(library) if f.endswith('.json')],\n",
    "    description='Motif',\n",
    "    disabled=False,\n",
    "    value=None\n",
    ")\n",
    "\n",
    "def on_motif_change(v):\n",
    "    global motif_coords\n",
    "    global motif_types\n",
    "    global motif_symmetry\n",
    "    info = json.load(open(library+v['new'], 'r'))\n",
    "    motif_coords = info['coords'] \n",
    "    motif_types = info['types'] \n",
    "    motif_symmetry = info['symmetry'] \n",
    "\n",
    "motif_selector.observe(on_motif_change, names='value')\n",
    "\n",
    "stabilizer_selector = widgets.ToggleButtons(\n",
    "    options=['c1 (ignore)', 'Use motif'],\n",
    "    description=r'$S(\\mathcal{P}|M):$',\n",
    "    disabled=False,\n",
    "    button_style='info', # 'success', 'info', 'warning', 'danger' or ''\n",
    "    tooltips=['Do not extend any of motif\\'s symmetry to the tiling', 'Use some of motif\\'s symmetry in tiling'],\n",
    "#     icons=['check'] * 3\n",
    ")\n",
    "\n",
    "def on_stabilizer_change(v):\n",
    "    global stabilizer\n",
    "    if v['new'] == \"Use motif\":\n",
    "        stabilizer = motif_point_symmetry\n",
    "    else:\n",
    "        stabilizer = 'c1'\n",
    "\n",
    "stabilizer_selector.observe(on_stabilizer_change, names='value')\n",
    "\n",
    "def plot(coords):\n",
    "    coords = np.array(coords)\n",
    "    plt.plot(coords[:,0], coords[:,1], 'o')\n",
    "    plt.gca().axis('equal')\n",
    "    \n",
    "def get_factors(x):\n",
    "    f = []\n",
    "    for i in range(1, x + 1):\n",
    "        if x % i == 0:\n",
    "            f.append(i)\n",
    "    return f[:-1] # Exclude trivial factors of 1 and x\n",
    "\n",
    "def get_subgroups(group):\n",
    "    subgroups = []\n",
    "    if (group == 'c1'): # Identity\n",
    "        return subgroups\n",
    "    elif (group.startswith(\"d\")): # Dihedral group of order 2n (dn) \n",
    "        n = int(group.split(\"d\")[1])\n",
    "        subgroups += [\"c{}\".format(i) for i in get_factors(n)] + [\"c{}\".format(n)]\n",
    "        subgroups += [\"d{}\".format(i) for i in get_factors(n)]\n",
    "    elif (group.startswith(\"c\")): # Cyclic group of order n (cn)\n",
    "        n = int(group.split(\"c\")[1]) \n",
    "        subgroups += [\"c{}\".format(i) for i in get_factors(n)]\n",
    "    return subgroups"
   ]
  },
  {
   "cell_type": "markdown",
   "metadata": {},
   "source": [
    "# Select your motif"
   ]
  },
  {
   "cell_type": "code",
   "execution_count": 3,
   "metadata": {},
   "outputs": [
    {
     "data": {
      "application/vnd.jupyter.widget-view+json": {
       "model_id": "0e0413c195234813832e0aa200fd7bc3",
       "version_major": 2,
       "version_minor": 0
      },
      "text/plain": [
       "Dropdown(description='Motif', options=('d_1_vitruvian.json', 'c_1_random.json', 'd_inf_circle.json', 'd_6_hexa…"
      ]
     },
     "metadata": {},
     "output_type": "display_data"
    }
   ],
   "source": [
    "display(motif_selector)"
   ]
  },
  {
   "cell_type": "code",
   "execution_count": 64,
   "metadata": {},
   "outputs": [
    {
     "data": {
      "image/png": "[encoded data removed]",
      "text/plain": [
       "<Figure size 432x288 with 1 Axes>"
      ]
     },
     "metadata": {
      "needs_background": "light"
     },
     "output_type": "display_data"
    }
   ],
   "source": [
    "plot(motif_coords)"
   ]
  },
  {
   "cell_type": "markdown",
   "metadata": {},
   "source": [
    "# Check the motif's point symmetry"
   ]
  },
  {
   "cell_type": "markdown",
   "metadata": {},
   "source": [
    "You must have [pymatgen](https://pymatgen.org/index.html) installed for this to work, otherwise you can consider doing this manually and can skip ahead."
   ]
  },
  {
   "cell_type": "code",
   "execution_count": 115,
   "metadata": {},
   "outputs": [],
   "source": [
    "motif_point_symmetry = 'd2'"
   ]
  },
  {
   "cell_type": "code",
   "execution_count": 119,
   "metadata": {},
   "outputs": [
    {
     "data": {
      "text/plain": [
       "['c1', 'c2', 'c3']"
      ]
     },
     "execution_count": 119,
     "metadata": {},
     "output_type": "execute_result"
    }
   ],
   "source": [
    "get_subgroups(\"c6\")"
   ]
  },
  {
   "cell_type": "markdown",
   "metadata": {},
   "source": [
    "# Select the global pattern symmetry"
   ]
  },
  {
   "cell_type": "raw",
   "metadata": {},
   "source": [
    "# 1. Do you wish to use the motif's symmetry?\n",
    "If no -> one of 46 options.  With minor exception (e.g. p1 for circle) it is usually unlikely \n",
    "that you will accidentically induce some symmetry, so just proceed, and check if it happens.\n",
    "\n",
    "\n",
    "\n",
    "If yes, display possible symmetries (exclude forbidden ones) and let the user choose a tile from that\n",
    "If a motif has a certain symmetry (eg. c6), it can induce any of its subgroups (eg. c3)\n",
    "\n",
    "If S(M) = S(P|M) then you can use the IH tile without fear. If S(M) > S(P|M) you have to check the forbidden supergroups to see if that is, or a subgroup of, S(M).  \n",
    "\n",
    "If S(M) = d2, can make PP20 with IH 17, 74 without an problem.\n",
    "If S(M) = d4, it is possible to make PP20 with these IH tiles, and d4 is not *strictly* forbidden. However if those tiles have a certain shape then the c2mm group these belong to can induce a d4 which promotes it to p4m, so it is *sometimes* forbidden.  OF course, c1 is always a subgroup.\n",
    "\n",
    "So perhaps we can break this up into \"safe\" symmetries and \"dangerous\" ones.  The latter will have to be checked"
   ]
  },
  {
   "cell_type": "code",
   "execution_count": 103,
   "metadata": {},
   "outputs": [
    {
     "data": {
      "application/vnd.jupyter.widget-view+json": {
       "model_id": "6d121ac28d2c481fba88bbf1e5521f39",
       "version_major": 2,
       "version_minor": 0
      },
      "text/plain": [
       "ToggleButtons(button_style='info', description='$S(\\\\mathcal{P}|M):$', options=('c1 (ignore)', 'Use motif'), t…"
      ]
     },
     "metadata": {},
     "output_type": "display_data"
    }
   ],
   "source": [
    "display(stabilizer_selector)"
   ]
  },
  {
   "cell_type": "code",
   "execution_count": 135,
   "metadata": {},
   "outputs": [
    {
     "data": {
      "text/plain": [
       "'c1'"
      ]
     },
     "execution_count": 135,
     "metadata": {},
     "output_type": "execute_result"
    }
   ],
   "source": [
    "stabilizer"
   ]
  },
  {
   "cell_type": "code",
   "execution_count": null,
   "metadata": {},
   "outputs": [],
   "source": [
    "always true that:\n",
    "    safe = rows with S(P|M) == stabilizer\n",
    "    dangerous = rows with subgroups of S(P|M) as stabilizer (incl c1), excluding forbidden    "
   ]
  },
  {
   "cell_type": "code",
   "execution_count": null,
   "metadata": {},
   "outputs": [],
   "source": []
  },
  {
   "cell_type": "code",
   "execution_count": 131,
   "metadata": {},
   "outputs": [],
   "source": [
    "# Table 5.2.3 from \"Tilings and Patterns\" by Gruenbaum & Shephard\n",
    "\n",
    "pp01 = [\n",
    "    'PP1',\n",
    "    'p1',\n",
    "    'c1',\n",
    "    'Primitive',\n",
    "    'c2',\n",
    "    [1, 41]\n",
    "]\n",
    "\n",
    "pp02 = [\n",
    "    'PP2',\n",
    "    'pg',\n",
    "    'c1',\n",
    "    'Primitive',\n",
    "    'd_inf',\n",
    "    [2, 3, 43, 44]\n",
    "]"
   ]
  },
  {
   "cell_type": "code",
   "execution_count": 132,
   "metadata": {},
   "outputs": [],
   "source": [
    "df = pd.DataFrame(\n",
    "    data=[pp01, pp02],\n",
    "    columns=['Pattern Type', \n",
    "             'Symmetry Group '+r'$S(\\mathcal{P})$', \n",
    "             'Induced Group, '+r'$S(\\mathcal{P}|M)$',\n",
    "             'Motif Transitive Proper Subgroups of '+r'$S(\\mathcal{P})$',\n",
    "             'Forbidden Supergroups',\n",
    "             'Isohedral Tiling Type IH'\n",
    "            ]\n",
    ")"
   ]
  },
  {
   "cell_type": "code",
   "execution_count": 133,
   "metadata": {},
   "outputs": [
    {
     "data": {
      "text/html": [
       "<style  type=\"text/css\" >\n",
       "</style><table id=\"T_7562a460_5323_11ec_9ec4_8f174610dcff\" ><thead>    <tr>        <th class=\"col_heading level0 col0\" >Pattern Type</th>        <th class=\"col_heading level0 col1\" >Symmetry Group $S(\\mathcal{P})$</th>        <th class=\"col_heading level0 col2\" >Induced Group, $S(\\mathcal{P}|M)$</th>        <th class=\"col_heading level0 col3\" >Motif Transitive Proper Subgroups of $S(\\mathcal{P})$</th>        <th class=\"col_heading level0 col4\" >Forbidden Supergroups</th>        <th class=\"col_heading level0 col5\" >Isohedral Tiling Type IH</th>    </tr></thead><tbody>\n",
       "                <tr>\n",
       "                                <td id=\"T_7562a460_5323_11ec_9ec4_8f174610dcffrow0_col0\" class=\"data row0 col0\" >PP1</td>\n",
       "                        <td id=\"T_7562a460_5323_11ec_9ec4_8f174610dcffrow0_col1\" class=\"data row0 col1\" >p1</td>\n",
       "                        <td id=\"T_7562a460_5323_11ec_9ec4_8f174610dcffrow0_col2\" class=\"data row0 col2\" >c1</td>\n",
       "                        <td id=\"T_7562a460_5323_11ec_9ec4_8f174610dcffrow0_col3\" class=\"data row0 col3\" >Primitive</td>\n",
       "                        <td id=\"T_7562a460_5323_11ec_9ec4_8f174610dcffrow0_col4\" class=\"data row0 col4\" >c2</td>\n",
       "                        <td id=\"T_7562a460_5323_11ec_9ec4_8f174610dcffrow0_col5\" class=\"data row0 col5\" >[1, 41]</td>\n",
       "            </tr>\n",
       "            <tr>\n",
       "                                <td id=\"T_7562a460_5323_11ec_9ec4_8f174610dcffrow1_col0\" class=\"data row1 col0\" >PP2</td>\n",
       "                        <td id=\"T_7562a460_5323_11ec_9ec4_8f174610dcffrow1_col1\" class=\"data row1 col1\" >pg</td>\n",
       "                        <td id=\"T_7562a460_5323_11ec_9ec4_8f174610dcffrow1_col2\" class=\"data row1 col2\" >c1</td>\n",
       "                        <td id=\"T_7562a460_5323_11ec_9ec4_8f174610dcffrow1_col3\" class=\"data row1 col3\" >Primitive</td>\n",
       "                        <td id=\"T_7562a460_5323_11ec_9ec4_8f174610dcffrow1_col4\" class=\"data row1 col4\" >d_inf</td>\n",
       "                        <td id=\"T_7562a460_5323_11ec_9ec4_8f174610dcffrow1_col5\" class=\"data row1 col5\" >[2, 3, 43, 44]</td>\n",
       "            </tr>\n",
       "    </tbody></table>"
      ],
      "text/plain": [
       "<pandas.io.formats.style.Styler at 0x7f06eceed910>"
      ]
     },
     "execution_count": 133,
     "metadata": {},
     "output_type": "execute_result"
    }
   ],
   "source": [
    "df.style.hide_index()"
   ]
  },
  {
   "cell_type": "code",
   "execution_count": null,
   "metadata": {},
   "outputs": [],
   "source": []
  }
 ],
 "metadata": {
  "kernelspec": {
   "display_name": "Python 3",
   "language": "python",
   "name": "python3"
  },
  "language_info": {
   "codemirror_mode": {
    "name": "ipython",
    "version": 3
   },
   "file_extension": ".py",
   "mimetype": "text/x-python",
   "name": "python",
   "nbconvert_exporter": "python",
   "pygments_lexer": "ipython3",
   "version": "3.7.4"
  },
  "toc": {
   "base_numbering": 1,
   "nav_menu": {},
   "number_sections": true,
   "sideBar": true,
   "skip_h1_title": false,
   "title_cell": "Table of Contents",
   "title_sidebar": "Contents",
   "toc_cell": true,
   "toc_position": {},
   "toc_section_display": true,
   "toc_window_display": false
  }
 },
 "nbformat": 4,
 "nbformat_minor": 2
}
