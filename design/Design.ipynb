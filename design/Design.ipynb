{
 "cells": [
  {
   "cell_type": "markdown",
   "metadata": {
    "toc": true
   },
   "source": [
    "<h1>Table of Contents<span class=\"tocSkip\"></span></h1>\n",
    "<div class=\"toc\"><ul class=\"toc-item\"><li><ul class=\"toc-item\"><li><span><a href=\"#Overview\" data-toc-modified-id=\"Overview-0.1\"><span class=\"toc-item-num\">0.1&nbsp;&nbsp;</span>Overview</a></span></li></ul></li><li><span><a href=\"#Tools\" data-toc-modified-id=\"Tools-1\"><span class=\"toc-item-num\">1&nbsp;&nbsp;</span>Tools</a></span></li><li><span><a href=\"#Select-your-motif\" data-toc-modified-id=\"Select-your-motif-2\"><span class=\"toc-item-num\">2&nbsp;&nbsp;</span>Select your motif</a></span></li><li><span><a href=\"#Check-the-motif's-point-symmetry\" data-toc-modified-id=\"Check-the-motif's-point-symmetry-3\"><span class=\"toc-item-num\">3&nbsp;&nbsp;</span>Check the motif's point symmetry</a></span></li><li><span><a href=\"#Select-the-global-pattern-symmetry\" data-toc-modified-id=\"Select-the-global-pattern-symmetry-4\"><span class=\"toc-item-num\">4&nbsp;&nbsp;</span>Select the global pattern symmetry</a></span></li><li><span><a href=\"#Proceed-to-Step-3\" data-toc-modified-id=\"Proceed-to-Step-3-5\"><span class=\"toc-item-num\">5&nbsp;&nbsp;</span>Proceed to Step 3</a></span></li></ul></div>"
   ]
  },
  {
   "cell_type": "code",
   "execution_count": 1,
   "metadata": {},
   "outputs": [],
   "source": [
    "import json, os\n",
    "import numpy as np\n",
    "import pandas as pd\n",
    "import ipywidgets as widgets\n",
    "import matplotlib.pyplot as plt\n",
    "%matplotlib inline\n",
    "\n",
    "%load_ext autoreload\n",
    "%autoreload 2"
   ]
  },
  {
   "cell_type": "markdown",
   "metadata": {},
   "source": [
    "Overview\n",
    "--------\n",
    "This is **STEP 2** in the design procedure. If you plan to use default motifs you may proceed; otherwise go to motif_library/Create_Motifs.ipynb to design your motif first."
   ]
  },
  {
   "cell_type": "markdown",
   "metadata": {},
   "source": [
    "# Tools"
   ]
  },
  {
   "cell_type": "code",
   "execution_count": 2,
   "metadata": {},
   "outputs": [],
   "source": [
    "library = '../motif_library/'\n",
    "motif_coords = None\n",
    "motif_types = None\n",
    "motif_point_symmetry = None\n",
    "induced = 'c1'\n",
    "\n",
    "motif_selector = widgets.Dropdown(\n",
    "    options=[f for f in os.listdir(library) if f.endswith('.json')],\n",
    "    description='Motif',\n",
    "    disabled=False,\n",
    "    value=None\n",
    ")\n",
    "\n",
    "def on_motif_change(v):\n",
    "    global motif_coords\n",
    "    global motif_types\n",
    "    global motif_point_symmetry\n",
    "    info = json.load(open(library+v['new'], 'r'))\n",
    "    motif_coords = info['coords'] \n",
    "    motif_types = info['types'] \n",
    "    motif_point_symmetry = info['symmetry'] \n",
    "\n",
    "motif_selector.observe(on_motif_change, names='value')\n",
    "\n",
    "induced_selector = widgets.ToggleButtons(\n",
    "    options=['Ignore (c1)', 'Use motif'],\n",
    "    description=r'$S(\\mathcal{P}|M):$',\n",
    "    disabled=False,\n",
    "    button_style='info', # 'success', 'info', 'warning', 'danger' or ''\n",
    "    tooltips=['Do not extend any of motif\\'s symmetry to the tiling', 'Use some of motif\\'s symmetry in tiling'],\n",
    "#     icons=['check'] * 3\n",
    ")\n",
    "\n",
    "def on_induced_change(v):\n",
    "    global induced\n",
    "    if v['new'] == \"Use motif\":\n",
    "        induced = motif_point_symmetry\n",
    "    else:\n",
    "        induced = 'c1'\n",
    "\n",
    "induced_selector.observe(on_induced_change, names='value')\n",
    "\n",
    "def plot(coords):\n",
    "    coords = np.array(coords)\n",
    "    plt.plot(coords[:,0], coords[:,1], 'o')\n",
    "    plt.gca().axis('equal')\n",
    "    \n",
    "def convert_pym_sch(sch):\n",
    "    \"\"\"\n",
    "    Convert 3D Schoenflies notation from pymatgen to 2D.\n",
    "    \n",
    "    All \"molecules\" are expected to be planar so the \"z\"-plane\n",
    "    is effectively a \"horizontal\" mirror. \n",
    "    \n",
    "    This also is designed to specifically handle to the \n",
    "    way that pymatgen responds; if pymatgen conventions change\n",
    "    this might need to be updated.\n",
    "    \n",
    "    See visualizations and references here:\n",
    "    * https://demonstrations.wolfram.com/MolecularPointGroups/\n",
    "    * https://en.wikipedia.org/wiki/Schoenflies_notation\n",
    "    * https://en.wikipedia.org/wiki/Point_groups_in_three_dimensions\n",
    "    \"\"\"\n",
    "\n",
    "    if sch == \"C1\" or sch == \"C1h\" or sch == \"C1v\" or sch == \"Cs\": # From wiki\n",
    "        return \"c1\"\n",
    "    elif sch == \"C2v\" or sch == \"D1h\": # From wiki\n",
    "        return \"d1\"\n",
    "    elif sch.endswith(\"h\") :\n",
    "        return sch[:2].lower() # Dxh = dx, Cxh = cx\n",
    "    else:\n",
    "        raise Exception(\"unrecognized Schoenflies point group {}\".format(sch))"
   ]
  },
  {
   "cell_type": "markdown",
   "metadata": {},
   "source": [
    "# Select your motif"
   ]
  },
  {
   "cell_type": "code",
   "execution_count": 3,
   "metadata": {},
   "outputs": [
    {
     "data": {
      "application/vnd.jupyter.widget-view+json": {
       "model_id": "43378c3fe7c746dfbd4f40fe81467cda",
       "version_major": 2,
       "version_minor": 0
      },
      "text/plain": [
       "Dropdown(description='Motif', options=('c2_taiji.json', 'd2_dumbbell.json', 'dinf_circle.json', 'd1_vitruvian.…"
      ]
     },
     "metadata": {},
     "output_type": "display_data"
    }
   ],
   "source": [
    "display(motif_selector)"
   ]
  },
  {
   "cell_type": "code",
   "execution_count": 4,
   "metadata": {},
   "outputs": [
    {
     "data": {
      "image/png": "[encoded data removed]",
      "text/plain": [
       "<Figure size 640x480 with 1 Axes>"
      ]
     },
     "metadata": {},
     "output_type": "display_data"
    }
   ],
   "source": [
    "plot(motif_coords)"
   ]
  },
  {
   "cell_type": "markdown",
   "metadata": {},
   "source": [
    "# Check the motif's point symmetry"
   ]
  },
  {
   "cell_type": "markdown",
   "metadata": {},
   "source": [
    "You must have [pymatgen](https://pymatgen.org/index.html) installed for this to work, otherwise you can consider doing this manually and can skip ahead.\n",
    "\n",
    "**Note**: this is intended to be a helpful check, but ultimately symmetry determination has a numerical precision associated with it.  If points are too close together, or tolerances poor, a bad assignment can be made.  The user should always check these results make sense. A circle, for example, if represented by a set of points always has finite symmetry, not $d_{\\infty}$. This section is just to provide an attempted check of the motif the user manually created (and assigned a 2D point symmetry).  "
   ]
  },
  {
   "cell_type": "code",
   "execution_count": 16,
   "metadata": {},
   "outputs": [],
   "source": [
    "import pymatgen.symmetry.analyzer as psa\n",
    "from pymatgen.core.structure import Molecule\n",
    "from scipy.spatial import distance_matrix"
   ]
  },
  {
   "cell_type": "code",
   "execution_count": 8,
   "metadata": {},
   "outputs": [],
   "source": [
    "# For numerical reasons, pymatgen works best when things are at least 1A apart, so center and scale\n",
    "# so nearest particles are 1 \"unit\" apart\n",
    "min_d = np.min(distance_matrix(motif_coords, motif_coords)[np.triu_indices(len(motif_coords), 1)])\n",
    "safer_coords = (motif_coords - np.mean(motif_coords, axis=0))/min_d\n",
    "\n",
    "mol = Molecule(\n",
    "    species=[\"H\"]*len(safer_coords),\n",
    "    coords=np.hstack((np.array(safer_coords), np.zeros((len(safer_coords),1)))),\n",
    "    validate_proximity=True\n",
    ")\n",
    "\n",
    "a = psa.PointGroupAnalyzer(mol, tolerance=0.3, eigen_tolerance=0.01)\n",
    "pmg_symm = convert_pym_sch(a.sch_symbol)"
   ]
  },
  {
   "cell_type": "code",
   "execution_count": 9,
   "metadata": {},
   "outputs": [],
   "source": [
    "# Check that pymatgen agrees with the library file\n",
    "assert(motif_point_symmetry == pmg_symm), 'pymatgen and library file do not agree on symmetry'"
   ]
  },
  {
   "cell_type": "markdown",
   "metadata": {},
   "source": [
    "# Select the global pattern symmetry"
   ]
  },
  {
   "cell_type": "markdown",
   "metadata": {},
   "source": [
    "Remember, if a motif has a certain symmetry (e.g., $S(M) = c6$), it can induce any of its subgroups (e.g., $S(\\mathcal{P}|M) = c3$)\n",
    "\n",
    "1. [**safe**] If $S(\\mathcal{P}|M)$ = $S(M)$ then you can use these IH tiles without fear. The escherization *algorithm will place the motif so that it induces all of its symmetries* on the pattern, and since the motif has no more, there are no other problems. \n",
    "\n",
    "2. [**forbidden**] \n",
    "* Option 1: A pattern type is forbidden if it requires the induction of a set of symmetries the motif does not have; i.e., $S(\\mathcal{P}|M) \\not\\le S(M)$; for example, you cannot induce d3 if the motif has d4 symmetry. Conversely, it might be possible if the motif has d6 symmetry (see ``dangerous'' below).\n",
    "* Option 2: If a proper subset (proper subgroup) of the motif's symmetries are induced on the pattern, $S(\\mathcal{P}|M) < S(M)$, you have to check that the motif's ``extra'' symmetries don't cause it to be strictly forbidden. \n",
    "\n",
    "    > Check for all $X$ such that $S(\\mathcal{P}|M) < X \\le S(M)$: If any such $X$ is a (minimal) forbidden supergroup, then this tile is forbidden.\n",
    "\n",
    "    In other words, when the motif induces $S(\\mathcal{P}|M)$ by using some of its symmetries, at least some of its extra symmetries **always** yield a net result of an even more symmetric global pattern which changes the point pattern type (not always the symmetry, though, but usually - cf. G&S, PP31->32 and PP40->41).  As best practice, I will just take this as a requirement. \n",
    "\n",
    "3. [**dangerous**] There is also a third case where $S(\\mathcal{P}|M) < S(M)$ and neither $S(M)$, nor any of its subgroups, are strictly forbidden, but if the tile has the right shape, for example, it is possible to change the pattern. These are the remainder of the rows. Consider the following example:\n",
    "\n",
    "    * If $S(M) =$ d2, can make PP20 with IH 17, 74 without any problem. [**safe**]\n",
    "    * If $S(M) =$ d4, it is possible to make PP20 with these IH tiles, and d4 is not *strictly* forbidden. [**dangerous**]\n",
    "    * However, if those tiles have a certain shape then the cmm group these belong to can induce d4 which promotes the pattern to p4m, so d4 is *sometimes* incorrect.  Of course, c1 is always a subgroup.\n",
    "    \n",
    "The **safe** and **forbidden** cases are the \"black and white\" ends of the spectrum; the \"dangerous\" ones are a gray area.  They offer the possibility of creating additional symmetries that might not be strictly safe, but require that you be careful with your design. If we make a dangerous choice, we can gain insight into the problems that might arise by using the `watch_out_for` function.\n",
    "\n",
    "Some interesting limits:\n",
    "* $S(M) = d_{\\infty}$ (Isotropic circle - 0 are safe, all with any strictly forbidden are forbidden, all with no strictly forbidden are dangerous)\n",
    "* $S(M) = c1$ (Asymmetric motif - 46 FD tiles are all safe, 0 dangerous, other 47 forbidden)\n",
    "\n",
    "Notes on Notation:\n",
    "* [Subgroups](https://mathworld.wolfram.com/Subgroup.html)\n",
    "* [Proper Subgroups](https://mathworld.wolfram.com/ProperSubgroup.html)\n",
    "* [Symbols](https://www.mathsisfun.com/sets/symbols.html)"
   ]
  },
  {
   "cell_type": "code",
   "execution_count": 10,
   "metadata": {},
   "outputs": [],
   "source": [
    "## To see this example, uncomment the line below\n",
    "# motif_point_symmetry = 'd4'"
   ]
  },
  {
   "cell_type": "code",
   "execution_count": 11,
   "metadata": {},
   "outputs": [],
   "source": [
    "import table\n",
    "safe, dangerous, forbidden = table.prioritize(motif_point_symmetry)     "
   ]
  },
  {
   "cell_type": "code",
   "execution_count": 12,
   "metadata": {},
   "outputs": [
    {
     "data": {
      "text/html": [
       "<style type=\"text/css\">\n",
       "</style>\n",
       "<table id=\"T_1a693_\">\n",
       "  <thead>\n",
       "    <tr>\n",
       "      <th class=\"col_heading level0 col0\" >Pattern Type</th>\n",
       "      <th class=\"col_heading level0 col1\" >Symmetry Group $S(\\mathcal{P})$</th>\n",
       "      <th class=\"col_heading level0 col2\" >Induced Group, $S(\\mathcal{P}|M)$</th>\n",
       "      <th class=\"col_heading level0 col3\" >Motif Transitive Proper Subgroups of $S(\\mathcal{P})$</th>\n",
       "      <th class=\"col_heading level0 col4\" >Minimal Forbidden Supergroups</th>\n",
       "      <th class=\"col_heading level0 col5\" >Isohedral Tiling Type IH</th>\n",
       "    </tr>\n",
       "  </thead>\n",
       "  <tbody>\n",
       "    <tr>\n",
       "      <td id=\"T_1a693_row0_col0\" class=\"data row0 col0\" >PP41</td>\n",
       "      <td id=\"T_1a693_row0_col1\" class=\"data row0 col1\" >p4m</td>\n",
       "      <td id=\"T_1a693_row0_col2\" class=\"data row0 col2\" >d4</td>\n",
       "      <td id=\"T_1a693_row0_col3\" class=\"data row0 col3\" >['p1', 'pg(2)', 'pm(2)', 'cm(2)', 'p2(3)', 'pgg(3)', 'pmg(3)', 'pmm(3)', 'cmm(4)', 'p4(3)', 'p4g(3)', '*(2)']</td>\n",
       "      <td id=\"T_1a693_row0_col4\" class=\"data row0 col4\" ></td>\n",
       "      <td id=\"T_1a693_row0_col5\" class=\"data row0 col5\" >[76]</td>\n",
       "    </tr>\n",
       "  </tbody>\n",
       "</table>\n"
      ],
      "text/plain": [
       "<pandas.io.formats.style.Styler at 0x7fd75a31bc50>"
      ]
     },
     "execution_count": 12,
     "metadata": {},
     "output_type": "execute_result"
    }
   ],
   "source": [
    "safe.style.hide_index()"
   ]
  },
  {
   "cell_type": "code",
   "execution_count": 13,
   "metadata": {},
   "outputs": [
    {
     "data": {
      "text/html": [
       "<style type=\"text/css\">\n",
       "</style>\n",
       "<table id=\"T_95cdc_\">\n",
       "  <thead>\n",
       "    <tr>\n",
       "      <th class=\"col_heading level0 col0\" >Pattern Type</th>\n",
       "      <th class=\"col_heading level0 col1\" >Symmetry Group $S(\\mathcal{P})$</th>\n",
       "      <th class=\"col_heading level0 col2\" >Induced Group, $S(\\mathcal{P}|M)$</th>\n",
       "      <th class=\"col_heading level0 col3\" >Motif Transitive Proper Subgroups of $S(\\mathcal{P})$</th>\n",
       "      <th class=\"col_heading level0 col4\" >Minimal Forbidden Supergroups</th>\n",
       "      <th class=\"col_heading level0 col5\" >Isohedral Tiling Type IH</th>\n",
       "    </tr>\n",
       "  </thead>\n",
       "  <tbody>\n",
       "    <tr>\n",
       "      <td id=\"T_95cdc_row0_col0\" class=\"data row0 col0\" >PP2</td>\n",
       "      <td id=\"T_95cdc_row0_col1\" class=\"data row0 col1\" >pg</td>\n",
       "      <td id=\"T_95cdc_row0_col2\" class=\"data row0 col2\" >c1</td>\n",
       "      <td id=\"T_95cdc_row0_col3\" class=\"data row0 col3\" >['Primitive']</td>\n",
       "      <td id=\"T_95cdc_row0_col4\" class=\"data row0 col4\" >dinf</td>\n",
       "      <td id=\"T_95cdc_row0_col5\" class=\"data row0 col5\" >[2, 3, 43, 44]</td>\n",
       "    </tr>\n",
       "    <tr>\n",
       "      <td id=\"T_95cdc_row1_col0\" class=\"data row1 col0\" >PP3</td>\n",
       "      <td id=\"T_95cdc_row1_col1\" class=\"data row1 col1\" >pm</td>\n",
       "      <td id=\"T_95cdc_row1_col2\" class=\"data row1 col2\" >c1</td>\n",
       "      <td id=\"T_95cdc_row1_col3\" class=\"data row1 col3\" >['Primitive']</td>\n",
       "      <td id=\"T_95cdc_row1_col4\" class=\"data row1 col4\" >dinf</td>\n",
       "      <td id=\"T_95cdc_row1_col5\" class=\"data row1 col5\" >[42]</td>\n",
       "    </tr>\n",
       "    <tr>\n",
       "      <td id=\"T_95cdc_row2_col0\" class=\"data row2 col0\" >PP5</td>\n",
       "      <td id=\"T_95cdc_row2_col1\" class=\"data row2 col1\" >cm</td>\n",
       "      <td id=\"T_95cdc_row2_col2\" class=\"data row2 col2\" >c1</td>\n",
       "      <td id=\"T_95cdc_row2_col3\" class=\"data row2 col3\" >['Primitive']</td>\n",
       "      <td id=\"T_95cdc_row2_col4\" class=\"data row2 col4\" >dinf</td>\n",
       "      <td id=\"T_95cdc_row2_col5\" class=\"data row2 col5\" >[22, 45, 83]</td>\n",
       "    </tr>\n",
       "    <tr>\n",
       "      <td id=\"T_95cdc_row3_col0\" class=\"data row3 col0\" >PP7</td>\n",
       "      <td id=\"T_95cdc_row3_col1\" class=\"data row3 col1\" >p2</td>\n",
       "      <td id=\"T_95cdc_row3_col2\" class=\"data row3 col2\" >c1</td>\n",
       "      <td id=\"T_95cdc_row3_col3\" class=\"data row3 col3\" >['Primitive']</td>\n",
       "      <td id=\"T_95cdc_row3_col4\" class=\"data row3 col4\" ></td>\n",
       "      <td id=\"T_95cdc_row3_col5\" class=\"data row3 col5\" >[4, 23, 46, 47, 84]</td>\n",
       "    </tr>\n",
       "    <tr>\n",
       "      <td id=\"T_95cdc_row4_col0\" class=\"data row4 col0\" >PP8</td>\n",
       "      <td id=\"T_95cdc_row4_col1\" class=\"data row4 col1\" >p2</td>\n",
       "      <td id=\"T_95cdc_row4_col2\" class=\"data row4 col2\" >c2</td>\n",
       "      <td id=\"T_95cdc_row4_col3\" class=\"data row4 col3\" >['p1', '*']</td>\n",
       "      <td id=\"T_95cdc_row4_col4\" class=\"data row4 col4\" ></td>\n",
       "      <td id=\"T_95cdc_row4_col5\" class=\"data row4 col5\" >[8, 57]</td>\n",
       "    </tr>\n",
       "    <tr>\n",
       "      <td id=\"T_95cdc_row5_col0\" class=\"data row5 col0\" >PP9</td>\n",
       "      <td id=\"T_95cdc_row5_col1\" class=\"data row5 col1\" >pgg</td>\n",
       "      <td id=\"T_95cdc_row5_col2\" class=\"data row5 col2\" >c1</td>\n",
       "      <td id=\"T_95cdc_row5_col3\" class=\"data row5 col3\" >['Primitive']</td>\n",
       "      <td id=\"T_95cdc_row5_col4\" class=\"data row5 col4\" ></td>\n",
       "      <td id=\"T_95cdc_row5_col5\" class=\"data row5 col5\" >[5, 6, 25, 27, 51, 52, 53, 86]</td>\n",
       "    </tr>\n",
       "    <tr>\n",
       "      <td id=\"T_95cdc_row6_col0\" class=\"data row6 col0\" >PP10</td>\n",
       "      <td id=\"T_95cdc_row6_col1\" class=\"data row6 col1\" >pgg</td>\n",
       "      <td id=\"T_95cdc_row6_col2\" class=\"data row6 col2\" >c2</td>\n",
       "      <td id=\"T_95cdc_row6_col3\" class=\"data row6 col3\" >['pg']</td>\n",
       "      <td id=\"T_95cdc_row6_col4\" class=\"data row6 col4\" >dinf</td>\n",
       "      <td id=\"T_95cdc_row6_col5\" class=\"data row6 col5\" >[9, 59]</td>\n",
       "    </tr>\n",
       "    <tr>\n",
       "      <td id=\"T_95cdc_row7_col0\" class=\"data row7 col0\" >PP11</td>\n",
       "      <td id=\"T_95cdc_row7_col1\" class=\"data row7 col1\" >pmg</td>\n",
       "      <td id=\"T_95cdc_row7_col2\" class=\"data row7 col2\" >c1</td>\n",
       "      <td id=\"T_95cdc_row7_col3\" class=\"data row7 col3\" >['Primitive']</td>\n",
       "      <td id=\"T_95cdc_row7_col4\" class=\"data row7 col4\" ></td>\n",
       "      <td id=\"T_95cdc_row7_col5\" class=\"data row7 col5\" >[24, 49, 50, 85]</td>\n",
       "    </tr>\n",
       "    <tr>\n",
       "      <td id=\"T_95cdc_row8_col0\" class=\"data row8 col0\" >PP12</td>\n",
       "      <td id=\"T_95cdc_row8_col1\" class=\"data row8 col1\" >pmg</td>\n",
       "      <td id=\"T_95cdc_row8_col2\" class=\"data row8 col2\" >c2</td>\n",
       "      <td id=\"T_95cdc_row8_col3\" class=\"data row8 col3\" >['pg', 'pm', 'pgg', '*']</td>\n",
       "      <td id=\"T_95cdc_row8_col4\" class=\"data row8 col4\" >dinf</td>\n",
       "      <td id=\"T_95cdc_row8_col5\" class=\"data row8 col5\" >[58]</td>\n",
       "    </tr>\n",
       "    <tr>\n",
       "      <td id=\"T_95cdc_row9_col0\" class=\"data row9 col0\" >PP13</td>\n",
       "      <td id=\"T_95cdc_row9_col1\" class=\"data row9 col1\" >pmg</td>\n",
       "      <td id=\"T_95cdc_row9_col2\" class=\"data row9 col2\" >d1</td>\n",
       "      <td id=\"T_95cdc_row9_col3\" class=\"data row9 col3\" >['pg', 'p2', 'pgg']</td>\n",
       "      <td id=\"T_95cdc_row9_col4\" class=\"data row9 col4\" ></td>\n",
       "      <td id=\"T_95cdc_row9_col5\" class=\"data row9 col5\" >[13, 15, 66, 69]</td>\n",
       "    </tr>\n",
       "    <tr>\n",
       "      <td id=\"T_95cdc_row10_col0\" class=\"data row10 col0\" >PP14</td>\n",
       "      <td id=\"T_95cdc_row10_col1\" class=\"data row10 col1\" >pmm</td>\n",
       "      <td id=\"T_95cdc_row10_col2\" class=\"data row10 col2\" >c1</td>\n",
       "      <td id=\"T_95cdc_row10_col3\" class=\"data row10 col3\" >['Primitive']</td>\n",
       "      <td id=\"T_95cdc_row10_col4\" class=\"data row10 col4\" ></td>\n",
       "      <td id=\"T_95cdc_row10_col5\" class=\"data row10 col5\" >[48]</td>\n",
       "    </tr>\n",
       "    <tr>\n",
       "      <td id=\"T_95cdc_row11_col0\" class=\"data row11 col0\" >PP15</td>\n",
       "      <td id=\"T_95cdc_row11_col1\" class=\"data row11 col1\" >pmm</td>\n",
       "      <td id=\"T_95cdc_row11_col2\" class=\"data row11 col2\" >d1</td>\n",
       "      <td id=\"T_95cdc_row11_col3\" class=\"data row11 col3\" >['pm', 'p2', 'pmg(2)', 'cmm', '*']</td>\n",
       "      <td id=\"T_95cdc_row11_col4\" class=\"data row11 col4\" ></td>\n",
       "      <td id=\"T_95cdc_row11_col5\" class=\"data row11 col5\" >[65]</td>\n",
       "    </tr>\n",
       "    <tr>\n",
       "      <td id=\"T_95cdc_row12_col0\" class=\"data row12 col0\" >PP16</td>\n",
       "      <td id=\"T_95cdc_row12_col1\" class=\"data row12 col1\" >pmm</td>\n",
       "      <td id=\"T_95cdc_row12_col2\" class=\"data row12 col2\" >d2</td>\n",
       "      <td id=\"T_95cdc_row12_col3\" class=\"data row12 col3\" >['p1', 'pg', 'pm(2)', 'cm', 'p2(3)', 'pgg', 'pmg(2)', 'cmm(3)', '*(2)']</td>\n",
       "      <td id=\"T_95cdc_row12_col4\" class=\"data row12 col4\" ></td>\n",
       "      <td id=\"T_95cdc_row12_col5\" class=\"data row12 col5\" >[72]</td>\n",
       "    </tr>\n",
       "    <tr>\n",
       "      <td id=\"T_95cdc_row13_col0\" class=\"data row13 col0\" >PP17</td>\n",
       "      <td id=\"T_95cdc_row13_col1\" class=\"data row13 col1\" >cmm</td>\n",
       "      <td id=\"T_95cdc_row13_col2\" class=\"data row13 col2\" >c1</td>\n",
       "      <td id=\"T_95cdc_row13_col3\" class=\"data row13 col3\" >['Primitive']</td>\n",
       "      <td id=\"T_95cdc_row13_col4\" class=\"data row13 col4\" ></td>\n",
       "      <td id=\"T_95cdc_row13_col5\" class=\"data row13 col5\" >[54, 78]</td>\n",
       "    </tr>\n",
       "    <tr>\n",
       "      <td id=\"T_95cdc_row14_col0\" class=\"data row14 col0\" >PP18</td>\n",
       "      <td id=\"T_95cdc_row14_col1\" class=\"data row14 col1\" >cmm</td>\n",
       "      <td id=\"T_95cdc_row14_col2\" class=\"data row14 col2\" >c2</td>\n",
       "      <td id=\"T_95cdc_row14_col3\" class=\"data row14 col3\" >['cm', 'pgg', 'pmm']</td>\n",
       "      <td id=\"T_95cdc_row14_col4\" class=\"data row14 col4\" >dinf</td>\n",
       "      <td id=\"T_95cdc_row14_col5\" class=\"data row14 col5\" >[60]</td>\n",
       "    </tr>\n",
       "    <tr>\n",
       "      <td id=\"T_95cdc_row15_col0\" class=\"data row15 col0\" >PP19</td>\n",
       "      <td id=\"T_95cdc_row15_col1\" class=\"data row15 col1\" >cmm</td>\n",
       "      <td id=\"T_95cdc_row15_col2\" class=\"data row15 col2\" >d1</td>\n",
       "      <td id=\"T_95cdc_row15_col3\" class=\"data row15 col3\" >['cm', 'p2', 'pgg', 'pmg']</td>\n",
       "      <td id=\"T_95cdc_row15_col4\" class=\"data row15 col4\" ></td>\n",
       "      <td id=\"T_95cdc_row15_col5\" class=\"data row15 col5\" >[26, 67, 91]</td>\n",
       "    </tr>\n",
       "    <tr>\n",
       "      <td id=\"T_95cdc_row16_col0\" class=\"data row16 col0\" >PP20</td>\n",
       "      <td id=\"T_95cdc_row16_col1\" class=\"data row16 col1\" >cmm</td>\n",
       "      <td id=\"T_95cdc_row16_col2\" class=\"data row16 col2\" >d2</td>\n",
       "      <td id=\"T_95cdc_row16_col3\" class=\"data row16 col3\" >['p1', 'pg', 'cm', 'p2(2)', 'pgg(2)', 'pmg']</td>\n",
       "      <td id=\"T_95cdc_row16_col4\" class=\"data row16 col4\" ></td>\n",
       "      <td id=\"T_95cdc_row16_col5\" class=\"data row16 col5\" >[17, 74]</td>\n",
       "    </tr>\n",
       "    <tr>\n",
       "      <td id=\"T_95cdc_row17_col0\" class=\"data row17 col0\" >PP21</td>\n",
       "      <td id=\"T_95cdc_row17_col1\" class=\"data row17 col1\" >p3</td>\n",
       "      <td id=\"T_95cdc_row17_col2\" class=\"data row17 col2\" >c1</td>\n",
       "      <td id=\"T_95cdc_row17_col3\" class=\"data row17 col3\" >['Primitive']</td>\n",
       "      <td id=\"T_95cdc_row17_col4\" class=\"data row17 col4\" ></td>\n",
       "      <td id=\"T_95cdc_row17_col5\" class=\"data row17 col5\" >[7, 33]</td>\n",
       "    </tr>\n",
       "    <tr>\n",
       "      <td id=\"T_95cdc_row18_col0\" class=\"data row18 col0\" >PP23</td>\n",
       "      <td id=\"T_95cdc_row18_col1\" class=\"data row18 col1\" >p31m</td>\n",
       "      <td id=\"T_95cdc_row18_col2\" class=\"data row18 col2\" >c1</td>\n",
       "      <td id=\"T_95cdc_row18_col3\" class=\"data row18 col3\" >['Primitive']</td>\n",
       "      <td id=\"T_95cdc_row18_col4\" class=\"data row18 col4\" ></td>\n",
       "      <td id=\"T_95cdc_row18_col5\" class=\"data row18 col5\" >[30, 38]</td>\n",
       "    </tr>\n",
       "    <tr>\n",
       "      <td id=\"T_95cdc_row19_col0\" class=\"data row19 col0\" >PP25</td>\n",
       "      <td id=\"T_95cdc_row19_col1\" class=\"data row19 col1\" >p31m</td>\n",
       "      <td id=\"T_95cdc_row19_col2\" class=\"data row19 col2\" >d1</td>\n",
       "      <td id=\"T_95cdc_row19_col3\" class=\"data row19 col3\" >['p3']</td>\n",
       "      <td id=\"T_95cdc_row19_col4\" class=\"data row19 col4\" ></td>\n",
       "      <td id=\"T_95cdc_row19_col5\" class=\"data row19 col5\" >[16, 36]</td>\n",
       "    </tr>\n",
       "    <tr>\n",
       "      <td id=\"T_95cdc_row20_col0\" class=\"data row20 col0\" >PP27</td>\n",
       "      <td id=\"T_95cdc_row20_col1\" class=\"data row20 col1\" >p3m1</td>\n",
       "      <td id=\"T_95cdc_row20_col2\" class=\"data row20 col2\" >c1</td>\n",
       "      <td id=\"T_95cdc_row20_col3\" class=\"data row20 col3\" >['Primitive']</td>\n",
       "      <td id=\"T_95cdc_row20_col4\" class=\"data row20 col4\" ></td>\n",
       "      <td id=\"T_95cdc_row20_col5\" class=\"data row20 col5\" >[87]</td>\n",
       "    </tr>\n",
       "    <tr>\n",
       "      <td id=\"T_95cdc_row21_col0\" class=\"data row21 col0\" >PP28</td>\n",
       "      <td id=\"T_95cdc_row21_col1\" class=\"data row21 col1\" >p3m1</td>\n",
       "      <td id=\"T_95cdc_row21_col2\" class=\"data row21 col2\" >d1</td>\n",
       "      <td id=\"T_95cdc_row21_col3\" class=\"data row21 col3\" >['p3']</td>\n",
       "      <td id=\"T_95cdc_row21_col4\" class=\"data row21 col4\" ></td>\n",
       "      <td id=\"T_95cdc_row21_col5\" class=\"data row21 col5\" >[35]</td>\n",
       "    </tr>\n",
       "    <tr>\n",
       "      <td id=\"T_95cdc_row22_col0\" class=\"data row22 col0\" >PP30</td>\n",
       "      <td id=\"T_95cdc_row22_col1\" class=\"data row22 col1\" >p4</td>\n",
       "      <td id=\"T_95cdc_row22_col2\" class=\"data row22 col2\" >c1</td>\n",
       "      <td id=\"T_95cdc_row22_col3\" class=\"data row22 col3\" >['Primitive']</td>\n",
       "      <td id=\"T_95cdc_row22_col4\" class=\"data row22 col4\" ></td>\n",
       "      <td id=\"T_95cdc_row22_col5\" class=\"data row22 col5\" >[28, 55, 79]</td>\n",
       "    </tr>\n",
       "    <tr>\n",
       "      <td id=\"T_95cdc_row23_col0\" class=\"data row23 col0\" >PP32</td>\n",
       "      <td id=\"T_95cdc_row23_col1\" class=\"data row23 col1\" >p4</td>\n",
       "      <td id=\"T_95cdc_row23_col2\" class=\"data row23 col2\" >c4</td>\n",
       "      <td id=\"T_95cdc_row23_col3\" class=\"data row23 col3\" >['p1', 'p2(3)', '*(2)']</td>\n",
       "      <td id=\"T_95cdc_row23_col4\" class=\"data row23 col4\" >dinf</td>\n",
       "      <td id=\"T_95cdc_row23_col5\" class=\"data row23 col5\" >[62]</td>\n",
       "    </tr>\n",
       "    <tr>\n",
       "      <td id=\"T_95cdc_row24_col0\" class=\"data row24 col0\" >PP33</td>\n",
       "      <td id=\"T_95cdc_row24_col1\" class=\"data row24 col1\" >p4g</td>\n",
       "      <td id=\"T_95cdc_row24_col2\" class=\"data row24 col2\" >c1</td>\n",
       "      <td id=\"T_95cdc_row24_col3\" class=\"data row24 col3\" >['Primitive']</td>\n",
       "      <td id=\"T_95cdc_row24_col4\" class=\"data row24 col4\" ></td>\n",
       "      <td id=\"T_95cdc_row24_col5\" class=\"data row24 col5\" >[56, 81]</td>\n",
       "    </tr>\n",
       "    <tr>\n",
       "      <td id=\"T_95cdc_row25_col0\" class=\"data row25 col0\" >PP34</td>\n",
       "      <td id=\"T_95cdc_row25_col1\" class=\"data row25 col1\" >p4g</td>\n",
       "      <td id=\"T_95cdc_row25_col2\" class=\"data row25 col2\" >c4</td>\n",
       "      <td id=\"T_95cdc_row25_col3\" class=\"data row25 col3\" >['pg', 'cm', 'pgg(2)', 'pmm', 'cmm']</td>\n",
       "      <td id=\"T_95cdc_row25_col4\" class=\"data row25 col4\" >dinf</td>\n",
       "      <td id=\"T_95cdc_row25_col5\" class=\"data row25 col5\" >[63]</td>\n",
       "    </tr>\n",
       "    <tr>\n",
       "      <td id=\"T_95cdc_row26_col0\" class=\"data row26 col0\" >PP35</td>\n",
       "      <td id=\"T_95cdc_row26_col1\" class=\"data row26 col1\" >p4g</td>\n",
       "      <td id=\"T_95cdc_row26_col2\" class=\"data row26 col2\" >d1</td>\n",
       "      <td id=\"T_95cdc_row26_col3\" class=\"data row26 col3\" >['pgg', 'p4']</td>\n",
       "      <td id=\"T_95cdc_row26_col4\" class=\"data row26 col4\" ></td>\n",
       "      <td id=\"T_95cdc_row26_col5\" class=\"data row26 col5\" >[29, 71]</td>\n",
       "    </tr>\n",
       "    <tr>\n",
       "      <td id=\"T_95cdc_row27_col0\" class=\"data row27 col0\" >PP37</td>\n",
       "      <td id=\"T_95cdc_row27_col1\" class=\"data row27 col1\" >p4m</td>\n",
       "      <td id=\"T_95cdc_row27_col2\" class=\"data row27 col2\" >c1</td>\n",
       "      <td id=\"T_95cdc_row27_col3\" class=\"data row27 col3\" >['Primitive']</td>\n",
       "      <td id=\"T_95cdc_row27_col4\" class=\"data row27 col4\" ></td>\n",
       "      <td id=\"T_95cdc_row27_col5\" class=\"data row27 col5\" >[80]</td>\n",
       "    </tr>\n",
       "    <tr>\n",
       "      <td id=\"T_95cdc_row28_col0\" class=\"data row28 col0\" >PP38</td>\n",
       "      <td id=\"T_95cdc_row28_col1\" class=\"data row28 col1\" >p4m</td>\n",
       "      <td id=\"T_95cdc_row28_col2\" class=\"data row28 col2\" >d1</td>\n",
       "      <td id=\"T_95cdc_row28_col3\" class=\"data row28 col3\" >['cmm', 'p4', 'p4g', '*']</td>\n",
       "      <td id=\"T_95cdc_row28_col4\" class=\"data row28 col4\" ></td>\n",
       "      <td id=\"T_95cdc_row28_col5\" class=\"data row28 col5\" >[82]</td>\n",
       "    </tr>\n",
       "    <tr>\n",
       "      <td id=\"T_95cdc_row29_col0\" class=\"data row29 col0\" >PP39</td>\n",
       "      <td id=\"T_95cdc_row29_col1\" class=\"data row29 col1\" >p4m</td>\n",
       "      <td id=\"T_95cdc_row29_col2\" class=\"data row29 col2\" >d1</td>\n",
       "      <td id=\"T_95cdc_row29_col3\" class=\"data row29 col3\" >['pmm', 'p4', 'p4g']</td>\n",
       "      <td id=\"T_95cdc_row29_col4\" class=\"data row29 col4\" ></td>\n",
       "      <td id=\"T_95cdc_row29_col5\" class=\"data row29 col5\" >[70]</td>\n",
       "    </tr>\n",
       "    <tr>\n",
       "      <td id=\"T_95cdc_row30_col0\" class=\"data row30 col0\" >PP42</td>\n",
       "      <td id=\"T_95cdc_row30_col1\" class=\"data row30 col1\" >p6</td>\n",
       "      <td id=\"T_95cdc_row30_col2\" class=\"data row30 col2\" >c1</td>\n",
       "      <td id=\"T_95cdc_row30_col3\" class=\"data row30 col3\" >['Primitive']</td>\n",
       "      <td id=\"T_95cdc_row30_col4\" class=\"data row30 col4\" ></td>\n",
       "      <td id=\"T_95cdc_row30_col5\" class=\"data row30 col5\" >[21, 31, 39, 88]</td>\n",
       "    </tr>\n",
       "    <tr>\n",
       "      <td id=\"T_95cdc_row31_col0\" class=\"data row31 col0\" >PP43</td>\n",
       "      <td id=\"T_95cdc_row31_col1\" class=\"data row31 col1\" >p6</td>\n",
       "      <td id=\"T_95cdc_row31_col2\" class=\"data row31 col2\" >c2</td>\n",
       "      <td id=\"T_95cdc_row31_col3\" class=\"data row31 col3\" >['p3']</td>\n",
       "      <td id=\"T_95cdc_row31_col4\" class=\"data row31 col4\" >dinf</td>\n",
       "      <td id=\"T_95cdc_row31_col5\" class=\"data row31 col5\" >[34]</td>\n",
       "    </tr>\n",
       "    <tr>\n",
       "      <td id=\"T_95cdc_row32_col0\" class=\"data row32 col0\" >PP46</td>\n",
       "      <td id=\"T_95cdc_row32_col1\" class=\"data row32 col1\" >p6m</td>\n",
       "      <td id=\"T_95cdc_row32_col2\" class=\"data row32 col2\" >c1</td>\n",
       "      <td id=\"T_95cdc_row32_col3\" class=\"data row32 col3\" >['Primitive']</td>\n",
       "      <td id=\"T_95cdc_row32_col4\" class=\"data row32 col4\" ></td>\n",
       "      <td id=\"T_95cdc_row32_col5\" class=\"data row32 col5\" >[77]</td>\n",
       "    </tr>\n",
       "    <tr>\n",
       "      <td id=\"T_95cdc_row33_col0\" class=\"data row33 col0\" >PP47</td>\n",
       "      <td id=\"T_95cdc_row33_col1\" class=\"data row33 col1\" >p6m</td>\n",
       "      <td id=\"T_95cdc_row33_col2\" class=\"data row33 col2\" >d1</td>\n",
       "      <td id=\"T_95cdc_row33_col3\" class=\"data row33 col3\" >['p3m1', 'p6']</td>\n",
       "      <td id=\"T_95cdc_row33_col4\" class=\"data row33 col4\" ></td>\n",
       "      <td id=\"T_95cdc_row33_col5\" class=\"data row33 col5\" >[92]</td>\n",
       "    </tr>\n",
       "    <tr>\n",
       "      <td id=\"T_95cdc_row34_col0\" class=\"data row34 col0\" >PP48</td>\n",
       "      <td id=\"T_95cdc_row34_col1\" class=\"data row34 col1\" >p6m</td>\n",
       "      <td id=\"T_95cdc_row34_col2\" class=\"data row34 col2\" >d1</td>\n",
       "      <td id=\"T_95cdc_row34_col3\" class=\"data row34 col3\" >['p3m1', 'p6']</td>\n",
       "      <td id=\"T_95cdc_row34_col4\" class=\"data row34 col4\" ></td>\n",
       "      <td id=\"T_95cdc_row34_col5\" class=\"data row34 col5\" >[32, 40]</td>\n",
       "    </tr>\n",
       "    <tr>\n",
       "      <td id=\"T_95cdc_row35_col0\" class=\"data row35 col0\" >PP49</td>\n",
       "      <td id=\"T_95cdc_row35_col1\" class=\"data row35 col1\" >p6m</td>\n",
       "      <td id=\"T_95cdc_row35_col2\" class=\"data row35 col2\" >d2</td>\n",
       "      <td id=\"T_95cdc_row35_col3\" class=\"data row35 col3\" >['p3', 'p31m', 'p3m1', 'p6']</td>\n",
       "      <td id=\"T_95cdc_row35_col4\" class=\"data row35 col4\" ></td>\n",
       "      <td id=\"T_95cdc_row35_col5\" class=\"data row35 col5\" >[37]</td>\n",
       "    </tr>\n",
       "  </tbody>\n",
       "</table>\n"
      ],
      "text/plain": [
       "<pandas.io.formats.style.Styler at 0x7fd75a1d6b50>"
      ]
     },
     "execution_count": 13,
     "metadata": {},
     "output_type": "execute_result"
    }
   ],
   "source": [
    "dangerous.style.hide_index()"
   ]
  },
  {
   "cell_type": "code",
   "execution_count": 14,
   "metadata": {},
   "outputs": [
    {
     "data": {
      "text/html": [
       "<style type=\"text/css\">\n",
       "</style>\n",
       "<table id=\"T_c8e32_\">\n",
       "  <thead>\n",
       "    <tr>\n",
       "      <th class=\"col_heading level0 col0\" >Pattern Type</th>\n",
       "      <th class=\"col_heading level0 col1\" >Symmetry Group $S(\\mathcal{P})$</th>\n",
       "      <th class=\"col_heading level0 col2\" >Induced Group, $S(\\mathcal{P}|M)$</th>\n",
       "      <th class=\"col_heading level0 col3\" >Motif Transitive Proper Subgroups of $S(\\mathcal{P})$</th>\n",
       "      <th class=\"col_heading level0 col4\" >Minimal Forbidden Supergroups</th>\n",
       "      <th class=\"col_heading level0 col5\" >Isohedral Tiling Type IH</th>\n",
       "    </tr>\n",
       "  </thead>\n",
       "  <tbody>\n",
       "    <tr>\n",
       "      <td id=\"T_c8e32_row0_col0\" class=\"data row0 col0\" >PP41</td>\n",
       "      <td id=\"T_c8e32_row0_col1\" class=\"data row0 col1\" >p4m</td>\n",
       "      <td id=\"T_c8e32_row0_col2\" class=\"data row0 col2\" >d4</td>\n",
       "      <td id=\"T_c8e32_row0_col3\" class=\"data row0 col3\" >['p1', 'pg(2)', 'pm(2)', 'cm(2)', 'p2(3)', 'pgg(3)', 'pmg(3)', 'pmm(3)', 'cmm(4)', 'p4(3)', 'p4g(3)', '*(2)']</td>\n",
       "      <td id=\"T_c8e32_row0_col4\" class=\"data row0 col4\" ></td>\n",
       "      <td id=\"T_c8e32_row0_col5\" class=\"data row0 col5\" >[76]</td>\n",
       "    </tr>\n",
       "  </tbody>\n",
       "</table>\n"
      ],
      "text/plain": [
       "<pandas.io.formats.style.Styler at 0x7fd75adb6950>"
      ]
     },
     "execution_count": 14,
     "metadata": {},
     "output_type": "execute_result"
    }
   ],
   "source": [
    "# Pay attention to the S(P) column which indicates possible symmetries that could result instead of what you want\n",
    "# table.watch_out_for(17, dangerous, motif_point_symmetry).style.hide_index()"
   ]
  },
  {
   "cell_type": "code",
   "execution_count": null,
   "metadata": {},
   "outputs": [],
   "source": [
    "forbidden.style.hide_index()"
   ]
  },
  {
   "cell_type": "markdown",
   "metadata": {},
   "source": [
    "# Proceed to Step 3"
   ]
  },
  {
   "cell_type": "markdown",
   "metadata": {},
   "source": [
    "3a. (optional) Visit [https://isohedral.ca/software/tactile/](https://isohedral.ca/software/tactile/) for an interactive experience with the tile you have selected.\n",
    "\n",
    "3b. Use examples/pso_safe and/or examples/pso_dangerous for an illustration of how to use PSO to optimize a tile to \"fit\" around a motif and create a colloid out of the two.\n",
    "\n",
    "3c. Run the optimization.\n",
    "\n",
    "3d. Check your results. If you are using a \"safe\" choice, you are guaranteed to have the final desired symmetry; however, a \"dangerous\" choice may lead to something unexpected. In the latter case, use the watch_out_for() function to help point out what symmetry you might end up with instead.\n",
    "\n",
    "* As best practice, you should **always** create a non-primitive unit cell (e.g., 3x3) and visually check what symmetry your final design will have.\n",
    "\n",
    "* See `Colloid::unitCell()` C++ function and example/unit_cell."
   ]
  }
 ],
 "metadata": {
  "kernelspec": {
   "display_name": "py37",
   "language": "python",
   "name": "py37"
  },
  "language_info": {
   "codemirror_mode": {
    "name": "ipython",
    "version": 3
   },
   "file_extension": ".py",
   "mimetype": "text/x-python",
   "name": "python",
   "nbconvert_exporter": "python",
   "pygments_lexer": "ipython3",
   "version": "3.7.13"
  },
  "toc": {
   "base_numbering": 1,
   "nav_menu": {},
   "number_sections": true,
   "sideBar": true,
   "skip_h1_title": false,
   "title_cell": "Table of Contents",
   "title_sidebar": "Contents",
   "toc_cell": true,
   "toc_position": {},
   "toc_section_display": true,
   "toc_window_display": false
  }
 },
 "nbformat": 4,
 "nbformat_minor": 2
}
